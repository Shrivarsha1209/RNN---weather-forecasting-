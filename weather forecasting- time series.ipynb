{
  "nbformat": 4,
  "nbformat_minor": 0,
  "metadata": {
    "colab": {
      "provenance": []
    },
    "kernelspec": {
      "name": "python3",
      "display_name": "Python 3"
    },
    "language_info": {
      "name": "python"
    }
  },
  "cells": [
    {
      "cell_type": "markdown",
      "source": [
        "**WEATHER FORECASTING USING LSTM MODEL (time series dataset)**\n",
        "\n",
        "---\n",
        "\n"
      ],
      "metadata": {
        "id": "La7D2VIUz_rF"
      }
    },
    {
      "cell_type": "markdown",
      "source": [
        "This dataset is taken from the kaggle competitioin. The aim of this dataset is to predict wheaher it rains or not on a particulart day. To train this time series dataset, we have used long short term memory (LSTM) , because which uses sequence and also requires both past and present memory to predict weather.This dataset is taken from the kaggle competitioin. The aim of this dataset is to predict wheaher it rains or not on a particulart day. To train this time series dataset, we have used long short term memory (LSTM) , because which uses sequence and also requires both past and present memory to predict weather."
      ],
      "metadata": {
        "id": "Il5k4hWabMiD"
      }
    },
    {
      "cell_type": "markdown",
      "source": [
        "*DATASET DESCRIPTION *:\n",
        "\n",
        "Date - Date of the Observation in DD-MM-YYYY\n",
        "\n",
        "MinTemp - The Minimum temperature during a particular day. (degree Celsius)\n",
        "\n",
        "MaxTemp - The maximum temperature during a particular day. (degree Celsius)\n",
        "\n",
        "Rainfall - Rainfall during a particular day. (millimeters)\n",
        "\n",
        "Evaporation - Evaporation during a particular day. (millimeters)\n",
        "\n",
        "Sunshine - Bright sunshine during a particular day. (hours)\n",
        "\n",
        "WindGusDir - The direction of the strongest gust during a particular day. (16 compass points)\n",
        "\n",
        "WindGuSpeed - Speed of strongest gust during a particular day. (kilometers per hour)\n",
        "\n",
        "WindDir9am - The direction of the wind for 10 min prior to 9 am. (compass points)\n",
        "\n",
        "WindDir3pm - The direction of the wind for 10 min prior to 3 pm. (compass points)\n",
        "\n",
        "WindSpeed9am - Speed of the wind for 10 min prior to 9 am. (kilometers per hou"
      ],
      "metadata": {
        "id": "W6QaehnNVCYF"
      }
    },
    {
      "cell_type": "markdown",
      "source": [
        "DATASET LINK :\n",
        "\n",
        "https://www.kaggle.com/competitions/mlolympiadbd2024/data"
      ],
      "metadata": {
        "id": "rP8rvzKWVHiR"
      }
    },
    {
      "cell_type": "code",
      "source": [
        "import numpy as np\n",
        "import pandas as pd\n",
        "from sklearn.preprocessing import MinMaxScaler\n",
        "from sklearn.model_selection import train_test_split\n",
        "from tensorflow.keras.models import Sequential\n",
        "from tensorflow.keras.layers import LSTM, Dense"
      ],
      "metadata": {
        "id": "F0YvKfzLSSIE"
      },
      "execution_count": null,
      "outputs": []
    },
    {
      "cell_type": "markdown",
      "source": [
        "Train dataset"
      ],
      "metadata": {
        "id": "pgcbaZEFVrYx"
      }
    },
    {
      "cell_type": "code",
      "source": [
        "data=pd.read_csv(\"/content/train (1).csv\")"
      ],
      "metadata": {
        "id": "CFenqhEASZaN"
      },
      "execution_count": null,
      "outputs": []
    },
    {
      "cell_type": "markdown",
      "source": [
        "Data preprocessing"
      ],
      "metadata": {
        "id": "YNmo2t2EVivg"
      }
    },
    {
      "cell_type": "code",
      "source": [
        "data.columns"
      ],
      "metadata": {
        "colab": {
          "base_uri": "https://localhost:8080/"
        },
        "id": "rFlyS_unhOGS",
        "outputId": "4958ae7f-d632-4f83-f0f2-ed9e2ea475e7"
      },
      "execution_count": null,
      "outputs": [
        {
          "output_type": "execute_result",
          "data": {
            "text/plain": [
              "Index(['Temp9am', 'Temp3pm', 'MinTemp', 'MaxTemp', 'Rainfall', 'RainToday',\n",
              "       'Evaporation', 'Sunshine', 'WindGustDir', 'WindGustSpeed', 'WindDir9am',\n",
              "       'WindDir3pm', 'WindSpeed9am', 'WindSpeed3pm', 'Humidity9am',\n",
              "       'Humidity3pm', 'Pressure9am', 'Pressure3pm', 'Cloud9am', 'Cloud3pm',\n",
              "       'ID'],\n",
              "      dtype='object')"
            ]
          },
          "metadata": {},
          "execution_count": 42
        }
      ]
    },
    {
      "cell_type": "code",
      "source": [
        "data.info()"
      ],
      "metadata": {
        "colab": {
          "base_uri": "https://localhost:8080/"
        },
        "id": "RDXb7SIqhRg7",
        "outputId": "d8eeb8ce-b239-4285-c8fd-a9f0da352093"
      },
      "execution_count": null,
      "outputs": [
        {
          "output_type": "stream",
          "name": "stdout",
          "text": [
            "<class 'pandas.core.frame.DataFrame'>\n",
            "DatetimeIndex: 2616 entries, 2013-01-02 to 2020-03-31\n",
            "Data columns (total 21 columns):\n",
            " #   Column         Non-Null Count  Dtype  \n",
            "---  ------         --------------  -----  \n",
            " 0   Temp9am        2616 non-null   float64\n",
            " 1   Temp3pm        2616 non-null   float64\n",
            " 2   MinTemp        2616 non-null   float64\n",
            " 3   MaxTemp        2616 non-null   float64\n",
            " 4   Rainfall       2616 non-null   float64\n",
            " 5   RainToday      2616 non-null   object \n",
            " 6   Evaporation    2616 non-null   float64\n",
            " 7   Sunshine       2616 non-null   float64\n",
            " 8   WindGustDir    2616 non-null   object \n",
            " 9   WindGustSpeed  2616 non-null   int64  \n",
            " 10  WindDir9am     2616 non-null   object \n",
            " 11  WindDir3pm     2616 non-null   object \n",
            " 12  WindSpeed9am   2616 non-null   int64  \n",
            " 13  WindSpeed3pm   2616 non-null   int64  \n",
            " 14  Humidity9am    2616 non-null   int64  \n",
            " 15  Humidity3pm    2616 non-null   int64  \n",
            " 16  Pressure9am    2616 non-null   float64\n",
            " 17  Pressure3pm    2616 non-null   float64\n",
            " 18  Cloud9am       2616 non-null   int64  \n",
            " 19  Cloud3pm       2616 non-null   int64  \n",
            " 20  ID             2616 non-null   int64  \n",
            "dtypes: float64(9), int64(8), object(4)\n",
            "memory usage: 449.6+ KB\n"
          ]
        }
      ]
    },
    {
      "cell_type": "code",
      "source": [
        "print(data.isnull().sum())"
      ],
      "metadata": {
        "colab": {
          "base_uri": "https://localhost:8080/"
        },
        "id": "UEH5No3_henV",
        "outputId": "ef9278fc-62ee-4db1-e3cb-3556e5580ba8"
      },
      "execution_count": null,
      "outputs": [
        {
          "output_type": "stream",
          "name": "stdout",
          "text": [
            "Temp9am          0\n",
            "Temp3pm          0\n",
            "MinTemp          0\n",
            "MaxTemp          0\n",
            "Rainfall         0\n",
            "RainToday        0\n",
            "Evaporation      0\n",
            "Sunshine         0\n",
            "WindGustDir      0\n",
            "WindGustSpeed    0\n",
            "WindDir9am       0\n",
            "WindDir3pm       0\n",
            "WindSpeed9am     0\n",
            "WindSpeed3pm     0\n",
            "Humidity9am      0\n",
            "Humidity3pm      0\n",
            "Pressure9am      0\n",
            "Pressure3pm      0\n",
            "Cloud9am         0\n",
            "Cloud3pm         0\n",
            "ID               0\n",
            "dtype: int64\n"
          ]
        }
      ]
    },
    {
      "cell_type": "code",
      "source": [
        "data.head()"
      ],
      "metadata": {
        "colab": {
          "base_uri": "https://localhost:8080/",
          "height": 373
        },
        "id": "Dqf47_2ahneM",
        "outputId": "9abcf2ba-6e73-4fad-c6d6-d960391ef94f"
      },
      "execution_count": null,
      "outputs": [
        {
          "output_type": "execute_result",
          "data": {
            "text/plain": [
              "            Temp9am  Temp3pm  MinTemp  MaxTemp  Rainfall RainToday  \\\n",
              "Date                                                                 \n",
              "2013-01-02     20.7     20.9     19.5     22.4      15.6       Yes   \n",
              "2013-02-02     22.4     24.8     19.5     25.6       6.0       Yes   \n",
              "2013-03-02     23.5     23.0     21.6     24.5       6.6       Yes   \n",
              "2013-04-02     21.4     20.9     20.2     22.8      18.8       Yes   \n",
              "2013-05-02     22.5     25.5     19.7     25.7      77.4       Yes   \n",
              "\n",
              "            Evaporation  Sunshine WindGustDir  WindGustSpeed  ... WindDir3pm  \\\n",
              "Date                                                          ...              \n",
              "2013-01-02          6.2       0.0           W             41  ...        SSW   \n",
              "2013-02-02          3.4       2.7           W             41  ...          E   \n",
              "2013-03-02          2.4       0.1           W             41  ...        ESE   \n",
              "2013-04-02          2.2       0.0           W             41  ...          E   \n",
              "2013-05-02          4.8       0.0           W             41  ...          W   \n",
              "\n",
              "           WindSpeed9am  WindSpeed3pm  Humidity9am  Humidity3pm  Pressure9am  \\\n",
              "Date                                                                           \n",
              "2013-01-02           17            20           92           84       1017.6   \n",
              "2013-02-02            9            13           83           73       1017.9   \n",
              "2013-03-02           17             2           88           86       1016.7   \n",
              "2013-04-02           22            20           83           90       1014.2   \n",
              "2013-05-02           11             6           88           74       1008.3   \n",
              "\n",
              "            Pressure3pm  Cloud9am  Cloud3pm  ID  \n",
              "Date                                             \n",
              "2013-01-02       1017.4         8         8   1  \n",
              "2013-02-02       1016.4         7         7   2  \n",
              "2013-03-02       1015.6         7         8   3  \n",
              "2013-04-02       1011.8         8         8   4  \n",
              "2013-05-02       1004.8         8         8   5  \n",
              "\n",
              "[5 rows x 21 columns]"
            ],
            "text/html": [
              "\n",
              "  <div id=\"df-2eab6c7d-425c-4b8d-83f6-295ef76d118e\" class=\"colab-df-container\">\n",
              "    <div>\n",
              "<style scoped>\n",
              "    .dataframe tbody tr th:only-of-type {\n",
              "        vertical-align: middle;\n",
              "    }\n",
              "\n",
              "    .dataframe tbody tr th {\n",
              "        vertical-align: top;\n",
              "    }\n",
              "\n",
              "    .dataframe thead th {\n",
              "        text-align: right;\n",
              "    }\n",
              "</style>\n",
              "<table border=\"1\" class=\"dataframe\">\n",
              "  <thead>\n",
              "    <tr style=\"text-align: right;\">\n",
              "      <th></th>\n",
              "      <th>Temp9am</th>\n",
              "      <th>Temp3pm</th>\n",
              "      <th>MinTemp</th>\n",
              "      <th>MaxTemp</th>\n",
              "      <th>Rainfall</th>\n",
              "      <th>RainToday</th>\n",
              "      <th>Evaporation</th>\n",
              "      <th>Sunshine</th>\n",
              "      <th>WindGustDir</th>\n",
              "      <th>WindGustSpeed</th>\n",
              "      <th>...</th>\n",
              "      <th>WindDir3pm</th>\n",
              "      <th>WindSpeed9am</th>\n",
              "      <th>WindSpeed3pm</th>\n",
              "      <th>Humidity9am</th>\n",
              "      <th>Humidity3pm</th>\n",
              "      <th>Pressure9am</th>\n",
              "      <th>Pressure3pm</th>\n",
              "      <th>Cloud9am</th>\n",
              "      <th>Cloud3pm</th>\n",
              "      <th>ID</th>\n",
              "    </tr>\n",
              "    <tr>\n",
              "      <th>Date</th>\n",
              "      <th></th>\n",
              "      <th></th>\n",
              "      <th></th>\n",
              "      <th></th>\n",
              "      <th></th>\n",
              "      <th></th>\n",
              "      <th></th>\n",
              "      <th></th>\n",
              "      <th></th>\n",
              "      <th></th>\n",
              "      <th></th>\n",
              "      <th></th>\n",
              "      <th></th>\n",
              "      <th></th>\n",
              "      <th></th>\n",
              "      <th></th>\n",
              "      <th></th>\n",
              "      <th></th>\n",
              "      <th></th>\n",
              "      <th></th>\n",
              "      <th></th>\n",
              "    </tr>\n",
              "  </thead>\n",
              "  <tbody>\n",
              "    <tr>\n",
              "      <th>2013-01-02</th>\n",
              "      <td>20.7</td>\n",
              "      <td>20.9</td>\n",
              "      <td>19.5</td>\n",
              "      <td>22.4</td>\n",
              "      <td>15.6</td>\n",
              "      <td>Yes</td>\n",
              "      <td>6.2</td>\n",
              "      <td>0.0</td>\n",
              "      <td>W</td>\n",
              "      <td>41</td>\n",
              "      <td>...</td>\n",
              "      <td>SSW</td>\n",
              "      <td>17</td>\n",
              "      <td>20</td>\n",
              "      <td>92</td>\n",
              "      <td>84</td>\n",
              "      <td>1017.6</td>\n",
              "      <td>1017.4</td>\n",
              "      <td>8</td>\n",
              "      <td>8</td>\n",
              "      <td>1</td>\n",
              "    </tr>\n",
              "    <tr>\n",
              "      <th>2013-02-02</th>\n",
              "      <td>22.4</td>\n",
              "      <td>24.8</td>\n",
              "      <td>19.5</td>\n",
              "      <td>25.6</td>\n",
              "      <td>6.0</td>\n",
              "      <td>Yes</td>\n",
              "      <td>3.4</td>\n",
              "      <td>2.7</td>\n",
              "      <td>W</td>\n",
              "      <td>41</td>\n",
              "      <td>...</td>\n",
              "      <td>E</td>\n",
              "      <td>9</td>\n",
              "      <td>13</td>\n",
              "      <td>83</td>\n",
              "      <td>73</td>\n",
              "      <td>1017.9</td>\n",
              "      <td>1016.4</td>\n",
              "      <td>7</td>\n",
              "      <td>7</td>\n",
              "      <td>2</td>\n",
              "    </tr>\n",
              "    <tr>\n",
              "      <th>2013-03-02</th>\n",
              "      <td>23.5</td>\n",
              "      <td>23.0</td>\n",
              "      <td>21.6</td>\n",
              "      <td>24.5</td>\n",
              "      <td>6.6</td>\n",
              "      <td>Yes</td>\n",
              "      <td>2.4</td>\n",
              "      <td>0.1</td>\n",
              "      <td>W</td>\n",
              "      <td>41</td>\n",
              "      <td>...</td>\n",
              "      <td>ESE</td>\n",
              "      <td>17</td>\n",
              "      <td>2</td>\n",
              "      <td>88</td>\n",
              "      <td>86</td>\n",
              "      <td>1016.7</td>\n",
              "      <td>1015.6</td>\n",
              "      <td>7</td>\n",
              "      <td>8</td>\n",
              "      <td>3</td>\n",
              "    </tr>\n",
              "    <tr>\n",
              "      <th>2013-04-02</th>\n",
              "      <td>21.4</td>\n",
              "      <td>20.9</td>\n",
              "      <td>20.2</td>\n",
              "      <td>22.8</td>\n",
              "      <td>18.8</td>\n",
              "      <td>Yes</td>\n",
              "      <td>2.2</td>\n",
              "      <td>0.0</td>\n",
              "      <td>W</td>\n",
              "      <td>41</td>\n",
              "      <td>...</td>\n",
              "      <td>E</td>\n",
              "      <td>22</td>\n",
              "      <td>20</td>\n",
              "      <td>83</td>\n",
              "      <td>90</td>\n",
              "      <td>1014.2</td>\n",
              "      <td>1011.8</td>\n",
              "      <td>8</td>\n",
              "      <td>8</td>\n",
              "      <td>4</td>\n",
              "    </tr>\n",
              "    <tr>\n",
              "      <th>2013-05-02</th>\n",
              "      <td>22.5</td>\n",
              "      <td>25.5</td>\n",
              "      <td>19.7</td>\n",
              "      <td>25.7</td>\n",
              "      <td>77.4</td>\n",
              "      <td>Yes</td>\n",
              "      <td>4.8</td>\n",
              "      <td>0.0</td>\n",
              "      <td>W</td>\n",
              "      <td>41</td>\n",
              "      <td>...</td>\n",
              "      <td>W</td>\n",
              "      <td>11</td>\n",
              "      <td>6</td>\n",
              "      <td>88</td>\n",
              "      <td>74</td>\n",
              "      <td>1008.3</td>\n",
              "      <td>1004.8</td>\n",
              "      <td>8</td>\n",
              "      <td>8</td>\n",
              "      <td>5</td>\n",
              "    </tr>\n",
              "  </tbody>\n",
              "</table>\n",
              "<p>5 rows × 21 columns</p>\n",
              "</div>\n",
              "    <div class=\"colab-df-buttons\">\n",
              "\n",
              "  <div class=\"colab-df-container\">\n",
              "    <button class=\"colab-df-convert\" onclick=\"convertToInteractive('df-2eab6c7d-425c-4b8d-83f6-295ef76d118e')\"\n",
              "            title=\"Convert this dataframe to an interactive table.\"\n",
              "            style=\"display:none;\">\n",
              "\n",
              "  <svg xmlns=\"http://www.w3.org/2000/svg\" height=\"24px\" viewBox=\"0 -960 960 960\">\n",
              "    <path d=\"M120-120v-720h720v720H120Zm60-500h600v-160H180v160Zm220 220h160v-160H400v160Zm0 220h160v-160H400v160ZM180-400h160v-160H180v160Zm440 0h160v-160H620v160ZM180-180h160v-160H180v160Zm440 0h160v-160H620v160Z\"/>\n",
              "  </svg>\n",
              "    </button>\n",
              "\n",
              "  <style>\n",
              "    .colab-df-container {\n",
              "      display:flex;\n",
              "      gap: 12px;\n",
              "    }\n",
              "\n",
              "    .colab-df-convert {\n",
              "      background-color: #E8F0FE;\n",
              "      border: none;\n",
              "      border-radius: 50%;\n",
              "      cursor: pointer;\n",
              "      display: none;\n",
              "      fill: #1967D2;\n",
              "      height: 32px;\n",
              "      padding: 0 0 0 0;\n",
              "      width: 32px;\n",
              "    }\n",
              "\n",
              "    .colab-df-convert:hover {\n",
              "      background-color: #E2EBFA;\n",
              "      box-shadow: 0px 1px 2px rgba(60, 64, 67, 0.3), 0px 1px 3px 1px rgba(60, 64, 67, 0.15);\n",
              "      fill: #174EA6;\n",
              "    }\n",
              "\n",
              "    .colab-df-buttons div {\n",
              "      margin-bottom: 4px;\n",
              "    }\n",
              "\n",
              "    [theme=dark] .colab-df-convert {\n",
              "      background-color: #3B4455;\n",
              "      fill: #D2E3FC;\n",
              "    }\n",
              "\n",
              "    [theme=dark] .colab-df-convert:hover {\n",
              "      background-color: #434B5C;\n",
              "      box-shadow: 0px 1px 3px 1px rgba(0, 0, 0, 0.15);\n",
              "      filter: drop-shadow(0px 1px 2px rgba(0, 0, 0, 0.3));\n",
              "      fill: #FFFFFF;\n",
              "    }\n",
              "  </style>\n",
              "\n",
              "    <script>\n",
              "      const buttonEl =\n",
              "        document.querySelector('#df-2eab6c7d-425c-4b8d-83f6-295ef76d118e button.colab-df-convert');\n",
              "      buttonEl.style.display =\n",
              "        google.colab.kernel.accessAllowed ? 'block' : 'none';\n",
              "\n",
              "      async function convertToInteractive(key) {\n",
              "        const element = document.querySelector('#df-2eab6c7d-425c-4b8d-83f6-295ef76d118e');\n",
              "        const dataTable =\n",
              "          await google.colab.kernel.invokeFunction('convertToInteractive',\n",
              "                                                    [key], {});\n",
              "        if (!dataTable) return;\n",
              "\n",
              "        const docLinkHtml = 'Like what you see? Visit the ' +\n",
              "          '<a target=\"_blank\" href=https://colab.research.google.com/notebooks/data_table.ipynb>data table notebook</a>'\n",
              "          + ' to learn more about interactive tables.';\n",
              "        element.innerHTML = '';\n",
              "        dataTable['output_type'] = 'display_data';\n",
              "        await google.colab.output.renderOutput(dataTable, element);\n",
              "        const docLink = document.createElement('div');\n",
              "        docLink.innerHTML = docLinkHtml;\n",
              "        element.appendChild(docLink);\n",
              "      }\n",
              "    </script>\n",
              "  </div>\n",
              "\n",
              "\n",
              "<div id=\"df-0e4f823e-52c4-4aad-9f8c-2e1a070633be\">\n",
              "  <button class=\"colab-df-quickchart\" onclick=\"quickchart('df-0e4f823e-52c4-4aad-9f8c-2e1a070633be')\"\n",
              "            title=\"Suggest charts\"\n",
              "            style=\"display:none;\">\n",
              "\n",
              "<svg xmlns=\"http://www.w3.org/2000/svg\" height=\"24px\"viewBox=\"0 0 24 24\"\n",
              "     width=\"24px\">\n",
              "    <g>\n",
              "        <path d=\"M19 3H5c-1.1 0-2 .9-2 2v14c0 1.1.9 2 2 2h14c1.1 0 2-.9 2-2V5c0-1.1-.9-2-2-2zM9 17H7v-7h2v7zm4 0h-2V7h2v10zm4 0h-2v-4h2v4z\"/>\n",
              "    </g>\n",
              "</svg>\n",
              "  </button>\n",
              "\n",
              "<style>\n",
              "  .colab-df-quickchart {\n",
              "      --bg-color: #E8F0FE;\n",
              "      --fill-color: #1967D2;\n",
              "      --hover-bg-color: #E2EBFA;\n",
              "      --hover-fill-color: #174EA6;\n",
              "      --disabled-fill-color: #AAA;\n",
              "      --disabled-bg-color: #DDD;\n",
              "  }\n",
              "\n",
              "  [theme=dark] .colab-df-quickchart {\n",
              "      --bg-color: #3B4455;\n",
              "      --fill-color: #D2E3FC;\n",
              "      --hover-bg-color: #434B5C;\n",
              "      --hover-fill-color: #FFFFFF;\n",
              "      --disabled-bg-color: #3B4455;\n",
              "      --disabled-fill-color: #666;\n",
              "  }\n",
              "\n",
              "  .colab-df-quickchart {\n",
              "    background-color: var(--bg-color);\n",
              "    border: none;\n",
              "    border-radius: 50%;\n",
              "    cursor: pointer;\n",
              "    display: none;\n",
              "    fill: var(--fill-color);\n",
              "    height: 32px;\n",
              "    padding: 0;\n",
              "    width: 32px;\n",
              "  }\n",
              "\n",
              "  .colab-df-quickchart:hover {\n",
              "    background-color: var(--hover-bg-color);\n",
              "    box-shadow: 0 1px 2px rgba(60, 64, 67, 0.3), 0 1px 3px 1px rgba(60, 64, 67, 0.15);\n",
              "    fill: var(--button-hover-fill-color);\n",
              "  }\n",
              "\n",
              "  .colab-df-quickchart-complete:disabled,\n",
              "  .colab-df-quickchart-complete:disabled:hover {\n",
              "    background-color: var(--disabled-bg-color);\n",
              "    fill: var(--disabled-fill-color);\n",
              "    box-shadow: none;\n",
              "  }\n",
              "\n",
              "  .colab-df-spinner {\n",
              "    border: 2px solid var(--fill-color);\n",
              "    border-color: transparent;\n",
              "    border-bottom-color: var(--fill-color);\n",
              "    animation:\n",
              "      spin 1s steps(1) infinite;\n",
              "  }\n",
              "\n",
              "  @keyframes spin {\n",
              "    0% {\n",
              "      border-color: transparent;\n",
              "      border-bottom-color: var(--fill-color);\n",
              "      border-left-color: var(--fill-color);\n",
              "    }\n",
              "    20% {\n",
              "      border-color: transparent;\n",
              "      border-left-color: var(--fill-color);\n",
              "      border-top-color: var(--fill-color);\n",
              "    }\n",
              "    30% {\n",
              "      border-color: transparent;\n",
              "      border-left-color: var(--fill-color);\n",
              "      border-top-color: var(--fill-color);\n",
              "      border-right-color: var(--fill-color);\n",
              "    }\n",
              "    40% {\n",
              "      border-color: transparent;\n",
              "      border-right-color: var(--fill-color);\n",
              "      border-top-color: var(--fill-color);\n",
              "    }\n",
              "    60% {\n",
              "      border-color: transparent;\n",
              "      border-right-color: var(--fill-color);\n",
              "    }\n",
              "    80% {\n",
              "      border-color: transparent;\n",
              "      border-right-color: var(--fill-color);\n",
              "      border-bottom-color: var(--fill-color);\n",
              "    }\n",
              "    90% {\n",
              "      border-color: transparent;\n",
              "      border-bottom-color: var(--fill-color);\n",
              "    }\n",
              "  }\n",
              "</style>\n",
              "\n",
              "  <script>\n",
              "    async function quickchart(key) {\n",
              "      const quickchartButtonEl =\n",
              "        document.querySelector('#' + key + ' button');\n",
              "      quickchartButtonEl.disabled = true;  // To prevent multiple clicks.\n",
              "      quickchartButtonEl.classList.add('colab-df-spinner');\n",
              "      try {\n",
              "        const charts = await google.colab.kernel.invokeFunction(\n",
              "            'suggestCharts', [key], {});\n",
              "      } catch (error) {\n",
              "        console.error('Error during call to suggestCharts:', error);\n",
              "      }\n",
              "      quickchartButtonEl.classList.remove('colab-df-spinner');\n",
              "      quickchartButtonEl.classList.add('colab-df-quickchart-complete');\n",
              "    }\n",
              "    (() => {\n",
              "      let quickchartButtonEl =\n",
              "        document.querySelector('#df-0e4f823e-52c4-4aad-9f8c-2e1a070633be button');\n",
              "      quickchartButtonEl.style.display =\n",
              "        google.colab.kernel.accessAllowed ? 'block' : 'none';\n",
              "    })();\n",
              "  </script>\n",
              "</div>\n",
              "\n",
              "    </div>\n",
              "  </div>\n"
            ],
            "application/vnd.google.colaboratory.intrinsic+json": {
              "type": "dataframe",
              "variable_name": "data"
            }
          },
          "metadata": {},
          "execution_count": 46
        }
      ]
    },
    {
      "cell_type": "code",
      "source": [
        "# Display the first few rows\n",
        "print(data.head())\n",
        "\n",
        "# Convert the 'Date' column to datetime\n",
        "data['Date'] = pd.to_datetime(data['Date'])\n",
        "\n",
        "# Set the 'Date' column as index\n",
        "data.set_index('Date', inplace=True)"
      ],
      "metadata": {
        "colab": {
          "base_uri": "https://localhost:8080/"
        },
        "id": "XCxmFp4NKbdV",
        "outputId": "6d8fb27a-0b87-4ea7-a7a9-623fd4a20c6f"
      },
      "execution_count": null,
      "outputs": [
        {
          "output_type": "stream",
          "name": "stdout",
          "text": [
            "       Date  Temp9am  Temp3pm  MinTemp  MaxTemp  Rainfall RainToday  \\\n",
            "0  01-02-13     20.7     20.9     19.5     22.4      15.6       Yes   \n",
            "1  02-02-13     22.4     24.8     19.5     25.6       6.0       Yes   \n",
            "2  03-02-13     23.5     23.0     21.6     24.5       6.6       Yes   \n",
            "3  04-02-13     21.4     20.9     20.2     22.8      18.8       Yes   \n",
            "4  05-02-13     22.5     25.5     19.7     25.7      77.4       Yes   \n",
            "\n",
            "   Evaporation  Sunshine WindGustDir  ...  WindDir3pm WindSpeed9am  \\\n",
            "0          6.2       0.0           W  ...         SSW           17   \n",
            "1          3.4       2.7           W  ...           E            9   \n",
            "2          2.4       0.1           W  ...         ESE           17   \n",
            "3          2.2       0.0           W  ...           E           22   \n",
            "4          4.8       0.0           W  ...           W           11   \n",
            "\n",
            "  WindSpeed3pm  Humidity9am  Humidity3pm  Pressure9am  Pressure3pm  Cloud9am  \\\n",
            "0           20           92           84       1017.6       1017.4         8   \n",
            "1           13           83           73       1017.9       1016.4         7   \n",
            "2            2           88           86       1016.7       1015.6         7   \n",
            "3           20           83           90       1014.2       1011.8         8   \n",
            "4            6           88           74       1008.3       1004.8         8   \n",
            "\n",
            "   Cloud3pm  ID  \n",
            "0         8   1  \n",
            "1         7   2  \n",
            "2         8   3  \n",
            "3         8   4  \n",
            "4         8   5  \n",
            "\n",
            "[5 rows x 22 columns]\n"
          ]
        },
        {
          "output_type": "stream",
          "name": "stderr",
          "text": [
            "<ipython-input-3-15ccd631ce6e>:5: UserWarning: Could not infer format, so each element will be parsed individually, falling back to `dateutil`. To ensure parsing is consistent and as-expected, please specify a format.\n",
            "  data['Date'] = pd.to_datetime(data['Date'])\n"
          ]
        }
      ]
    },
    {
      "cell_type": "code",
      "source": [
        "data.dropna(inplace=True)\n",
        "\n",
        "# Separate features (attributes) and target variable\n",
        "X = data.drop(['RainToday'], axis=1)\n",
        "y = data['RainToday']"
      ],
      "metadata": {
        "id": "xKqyY7q4SjDG"
      },
      "execution_count": null,
      "outputs": []
    },
    {
      "cell_type": "code",
      "source": [
        "from sklearn.preprocessing import LabelEncoder\n",
        "\n",
        "# 'WindGustDir', 'WindDir9am', and 'WindDir3pm' are ordinal categorical columns\n",
        "# Perform label encoding on these columns\n",
        "\n",
        "# Initialize LabelEncoder\n",
        "label_encoder = LabelEncoder()\n",
        "\n",
        "# Apply label encoding to categorical features\n",
        "X['WindGustDir'] = label_encoder.fit_transform(X['WindGustDir'])\n",
        "X['WindDir9am'] = label_encoder.fit_transform(X['WindDir9am'])\n",
        "X['WindDir3pm'] = label_encoder.fit_transform(X['WindDir3pm'])\n",
        "\n",
        "# Now X contains label encoded ordinal categorical features along with numerical features\n"
      ],
      "metadata": {
        "id": "EougQvFuSeOB"
      },
      "execution_count": null,
      "outputs": []
    },
    {
      "cell_type": "code",
      "source": [
        "print(X)"
      ],
      "metadata": {
        "colab": {
          "base_uri": "https://localhost:8080/"
        },
        "id": "BE5kuT7kUn7A",
        "outputId": "1e8ac3a7-1e4d-47a7-a12c-8874126d7925"
      },
      "execution_count": null,
      "outputs": [
        {
          "output_type": "stream",
          "name": "stdout",
          "text": [
            "            Temp9am  Temp3pm  MinTemp  MaxTemp  Rainfall  Evaporation  \\\n",
            "Date                                                                    \n",
            "2013-01-02     20.7     20.9     19.5     22.4      15.6          6.2   \n",
            "2013-02-02     22.4     24.8     19.5     25.6       6.0          3.4   \n",
            "2013-03-02     23.5     23.0     21.6     24.5       6.6          2.4   \n",
            "2013-04-02     21.4     20.9     20.2     22.8      18.8          2.2   \n",
            "2013-05-02     22.5     25.5     19.7     25.7      77.4          4.8   \n",
            "...             ...      ...      ...      ...       ...          ...   \n",
            "2020-03-27     15.1     20.1     11.6     20.5       0.0          3.0   \n",
            "2020-03-28     14.6     18.5     10.6     20.8       0.0          2.8   \n",
            "2020-03-29     13.0     20.1      9.0     20.3       0.0          4.2   \n",
            "2020-03-30     12.1     18.1      8.3     18.7       0.0          3.6   \n",
            "2020-03-31     13.9     18.4      9.6     19.7       0.0          4.8   \n",
            "\n",
            "            Sunshine  WindGustDir  WindGustSpeed  WindDir9am  WindDir3pm  \\\n",
            "Date                                                                       \n",
            "2013-01-02       0.0           13             41           8          11   \n",
            "2013-02-02       2.7           13             41          13           0   \n",
            "2013-03-02       0.1           13             41           2           2   \n",
            "2013-04-02       0.0           13             41           5           0   \n",
            "2013-05-02       0.0           13             41           5          13   \n",
            "...              ...          ...            ...         ...         ...   \n",
            "2020-03-27       4.3           13             52          13           7   \n",
            "2020-03-28       9.2           15             48          13           8   \n",
            "2020-03-29      10.8           15             30          13          14   \n",
            "2020-03-30      10.8           11             39          14           8   \n",
            "2020-03-31      10.9           10             35          15          10   \n",
            "\n",
            "            WindSpeed9am  WindSpeed3pm  Humidity9am  Humidity3pm  Pressure9am  \\\n",
            "Date                                                                            \n",
            "2013-01-02            17            20           92           84       1017.6   \n",
            "2013-02-02             9            13           83           73       1017.9   \n",
            "2013-03-02            17             2           88           86       1016.7   \n",
            "2013-04-02            22            20           83           90       1014.2   \n",
            "2013-05-02            11             6           88           74       1008.3   \n",
            "...                  ...           ...          ...          ...          ...   \n",
            "2020-03-27             9            17           87           44       1019.7   \n",
            "2020-03-28            22            20           48           43       1019.8   \n",
            "2020-03-29            13            15           60           31       1022.7   \n",
            "2020-03-30            20            22           52           44       1020.3   \n",
            "2020-03-31            15            22           48           39       1017.3   \n",
            "\n",
            "            Pressure3pm  Cloud9am  Cloud3pm    ID  \n",
            "Date                                               \n",
            "2013-01-02       1017.4         8         8     1  \n",
            "2013-02-02       1016.4         7         7     2  \n",
            "2013-03-02       1015.6         7         8     3  \n",
            "2013-04-02       1011.8         8         8     4  \n",
            "2013-05-02       1004.8         8         8     5  \n",
            "...                 ...       ...       ...   ...  \n",
            "2020-03-27       1015.1         7         6  2612  \n",
            "2020-03-28       1018.9         3         5  2613  \n",
            "2020-03-29       1017.9         1         2  2614  \n",
            "2020-03-30       1017.5         1         3  2615  \n",
            "2020-03-31       1013.8         1         2  2616  \n",
            "\n",
            "[2616 rows x 20 columns]\n"
          ]
        }
      ]
    },
    {
      "cell_type": "code",
      "source": [
        "print(y)"
      ],
      "metadata": {
        "colab": {
          "base_uri": "https://localhost:8080/"
        },
        "id": "WrorL17pXnMc",
        "outputId": "5d87b9ba-ad7f-4403-f00e-82af89554fd5"
      },
      "execution_count": null,
      "outputs": [
        {
          "output_type": "stream",
          "name": "stdout",
          "text": [
            "Date\n",
            "2013-01-02    Yes\n",
            "2013-02-02    Yes\n",
            "2013-03-02    Yes\n",
            "2013-04-02    Yes\n",
            "2013-05-02    Yes\n",
            "             ... \n",
            "2020-03-27     No\n",
            "2020-03-28     No\n",
            "2020-03-29     No\n",
            "2020-03-30     No\n",
            "2020-03-31     No\n",
            "Name: RainToday, Length: 2616, dtype: object\n"
          ]
        }
      ]
    },
    {
      "cell_type": "code",
      "source": [
        "from sklearn.preprocessing import LabelEncoder\n",
        "\n",
        "# Initialize LabelEncoder\n",
        "label_encoder = LabelEncoder()\n",
        "\n",
        "# Apply label encoding to the target variable\n",
        "y_encoded = label_encoder.fit_transform(y)\n",
        "\n",
        "# Now y_encoded contains numerical values representing the classes\n"
      ],
      "metadata": {
        "id": "4t_apZhLYRQ1"
      },
      "execution_count": null,
      "outputs": []
    },
    {
      "cell_type": "code",
      "source": [
        "print(y_encoded)"
      ],
      "metadata": {
        "colab": {
          "base_uri": "https://localhost:8080/"
        },
        "id": "FtaLdCboYS-K",
        "outputId": "bb662c85-49a6-4275-808e-dd3f9a3fe2c0"
      },
      "execution_count": null,
      "outputs": [
        {
          "output_type": "stream",
          "name": "stdout",
          "text": [
            "[1 1 1 ... 0 0 0]\n"
          ]
        }
      ]
    },
    {
      "cell_type": "code",
      "source": [
        "from keras.callbacks import EarlyStopping\n",
        "\n",
        "# Assuming X and y_encoded are already defined\n",
        "\n",
        "# Scale the features\n",
        "scaler = MinMaxScaler()\n",
        "X_scaled = scaler.fit_transform(X)"
      ],
      "metadata": {
        "id": "sBsDEfBRKpqA"
      },
      "execution_count": null,
      "outputs": []
    },
    {
      "cell_type": "markdown",
      "source": [
        "LSTM model"
      ],
      "metadata": {
        "id": "dG84elp-XYj9"
      }
    },
    {
      "cell_type": "code",
      "source": [
        "# Reshape data for LSTM input (samples, timesteps, features)\n",
        "X_scaled = X_scaled.reshape(X_scaled.shape[0], 1, X_scaled.shape[1])"
      ],
      "metadata": {
        "id": "Xq4TsKtWKwEa"
      },
      "execution_count": null,
      "outputs": []
    },
    {
      "cell_type": "markdown",
      "source": [
        "Before hyperparameter tuning"
      ],
      "metadata": {
        "id": "_0Vxl8pLVyPM"
      }
    },
    {
      "cell_type": "code",
      "source": [
        "from tensorflow.keras.layers import LSTM, Dense,Dropout"
      ],
      "metadata": {
        "id": "CN9T9qNcLJfB"
      },
      "execution_count": null,
      "outputs": []
    },
    {
      "cell_type": "markdown",
      "source": [
        "earlystopping to avoid overfitting"
      ],
      "metadata": {
        "id": "kI9DQuSuWGyx"
      }
    },
    {
      "cell_type": "code",
      "source": [
        "model = Sequential()\n",
        "model.add(LSTM(50, return_sequences=True, input_shape=(X_scaled.shape[1], X_scaled.shape[2])))\n",
        "model.add(Dropout(0.2))\n",
        "model.add(LSTM(50))\n",
        "model.add(Dropout(0.2))\n",
        "model.add(Dense(1, activation='sigmoid'))  # Sigmoid activation for binary classification\n",
        "\n",
        "# Compile the model\n",
        "model.compile(optimizer='adam', loss='binary_crossentropy', metrics=['accuracy'])\n",
        "\n",
        "# Define early stopping callback\n",
        "early_stopping = EarlyStopping(monitor='val_loss', patience=3, restore_best_weights=True)"
      ],
      "metadata": {
        "id": "EX001qNsK7wr"
      },
      "execution_count": null,
      "outputs": []
    },
    {
      "cell_type": "code",
      "source": [
        "model.fit(X_scaled, y_encoded, epochs=50, batch_size=32 , callbacks=[early_stopping])"
      ],
      "metadata": {
        "colab": {
          "base_uri": "https://localhost:8080/"
        },
        "id": "SGo1qcEVLM07",
        "outputId": "1366d8a6-c6cc-42d0-dfde-44df3bf3bf6d"
      },
      "execution_count": null,
      "outputs": [
        {
          "output_type": "stream",
          "name": "stdout",
          "text": [
            "Epoch 1/50\n",
            "75/82 [==========================>...] - ETA: 0s - loss: 0.3785 - accuracy: 0.8263"
          ]
        },
        {
          "output_type": "stream",
          "name": "stderr",
          "text": [
            "WARNING:tensorflow:Early stopping conditioned on metric `val_loss` which is not available. Available metrics are: loss,accuracy\n"
          ]
        },
        {
          "output_type": "stream",
          "name": "stdout",
          "text": [
            "\b\b\b\b\b\b\b\b\b\b\b\b\b\b\b\b\b\b\b\b\b\b\b\b\b\b\b\b\b\b\b\b\b\b\b\b\b\b\b\b\b\b\b\b\b\b\b\b\b\b\b\b\b\b\b\b\b\b\b\b\b\b\b\b\b\b\b\b\b\b\b\b\b\b\b\b\b\b\b\b\b\b\r82/82 [==============================] - 1s 7ms/step - loss: 0.3830 - accuracy: 0.8261\n",
            "Epoch 2/50\n",
            "72/82 [=========================>....] - ETA: 0s - loss: 0.3823 - accuracy: 0.8320"
          ]
        },
        {
          "output_type": "stream",
          "name": "stderr",
          "text": [
            "WARNING:tensorflow:Early stopping conditioned on metric `val_loss` which is not available. Available metrics are: loss,accuracy\n"
          ]
        },
        {
          "output_type": "stream",
          "name": "stdout",
          "text": [
            "\b\b\b\b\b\b\b\b\b\b\b\b\b\b\b\b\b\b\b\b\b\b\b\b\b\b\b\b\b\b\b\b\b\b\b\b\b\b\b\b\b\b\b\b\b\b\b\b\b\b\b\b\b\b\b\b\b\b\b\b\b\b\b\b\b\b\b\b\b\b\b\b\b\b\b\b\b\b\b\b\b\b\r82/82 [==============================] - 0s 5ms/step - loss: 0.3838 - accuracy: 0.8291\n",
            "Epoch 3/50\n",
            "72/82 [=========================>....] - ETA: 0s - loss: 0.3839 - accuracy: 0.8299"
          ]
        },
        {
          "output_type": "stream",
          "name": "stderr",
          "text": [
            "WARNING:tensorflow:Early stopping conditioned on metric `val_loss` which is not available. Available metrics are: loss,accuracy\n"
          ]
        },
        {
          "output_type": "stream",
          "name": "stdout",
          "text": [
            "\b\b\b\b\b\b\b\b\b\b\b\b\b\b\b\b\b\b\b\b\b\b\b\b\b\b\b\b\b\b\b\b\b\b\b\b\b\b\b\b\b\b\b\b\b\b\b\b\b\b\b\b\b\b\b\b\b\b\b\b\b\b\b\b\b\b\b\b\b\b\b\b\b\b\b\b\b\b\b\b\b\b\r82/82 [==============================] - 0s 5ms/step - loss: 0.3828 - accuracy: 0.8299\n",
            "Epoch 4/50\n",
            "80/82 [============================>.] - ETA: 0s - loss: 0.3825 - accuracy: 0.8316"
          ]
        },
        {
          "output_type": "stream",
          "name": "stderr",
          "text": [
            "WARNING:tensorflow:Early stopping conditioned on metric `val_loss` which is not available. Available metrics are: loss,accuracy\n"
          ]
        },
        {
          "output_type": "stream",
          "name": "stdout",
          "text": [
            "\b\b\b\b\b\b\b\b\b\b\b\b\b\b\b\b\b\b\b\b\b\b\b\b\b\b\b\b\b\b\b\b\b\b\b\b\b\b\b\b\b\b\b\b\b\b\b\b\b\b\b\b\b\b\b\b\b\b\b\b\b\b\b\b\b\b\b\b\b\b\b\b\b\b\b\b\b\b\b\b\b\b\r82/82 [==============================] - 0s 5ms/step - loss: 0.3841 - accuracy: 0.8310\n",
            "Epoch 5/50\n",
            "77/82 [===========================>..] - ETA: 0s - loss: 0.3804 - accuracy: 0.8356"
          ]
        },
        {
          "output_type": "stream",
          "name": "stderr",
          "text": [
            "WARNING:tensorflow:Early stopping conditioned on metric `val_loss` which is not available. Available metrics are: loss,accuracy\n"
          ]
        },
        {
          "output_type": "stream",
          "name": "stdout",
          "text": [
            "\b\b\b\b\b\b\b\b\b\b\b\b\b\b\b\b\b\b\b\b\b\b\b\b\b\b\b\b\b\b\b\b\b\b\b\b\b\b\b\b\b\b\b\b\b\b\b\b\b\b\b\b\b\b\b\b\b\b\b\b\b\b\b\b\b\b\b\b\b\b\b\b\b\b\b\b\b\b\b\b\b\b\r82/82 [==============================] - 0s 6ms/step - loss: 0.3790 - accuracy: 0.8372\n",
            "Epoch 6/50\n",
            "80/82 [============================>.] - ETA: 0s - loss: 0.3797 - accuracy: 0.8352"
          ]
        },
        {
          "output_type": "stream",
          "name": "stderr",
          "text": [
            "WARNING:tensorflow:Early stopping conditioned on metric `val_loss` which is not available. Available metrics are: loss,accuracy\n"
          ]
        },
        {
          "output_type": "stream",
          "name": "stdout",
          "text": [
            "\b\b\b\b\b\b\b\b\b\b\b\b\b\b\b\b\b\b\b\b\b\b\b\b\b\b\b\b\b\b\b\b\b\b\b\b\b\b\b\b\b\b\b\b\b\b\b\b\b\b\b\b\b\b\b\b\b\b\b\b\b\b\b\b\b\b\b\b\b\b\b\b\b\b\b\b\b\b\b\b\b\b\r82/82 [==============================] - 0s 5ms/step - loss: 0.3791 - accuracy: 0.8364\n",
            "Epoch 7/50\n",
            "78/82 [===========================>..] - ETA: 0s - loss: 0.3784 - accuracy: 0.8313"
          ]
        },
        {
          "output_type": "stream",
          "name": "stderr",
          "text": [
            "WARNING:tensorflow:Early stopping conditioned on metric `val_loss` which is not available. Available metrics are: loss,accuracy\n"
          ]
        },
        {
          "output_type": "stream",
          "name": "stdout",
          "text": [
            "\b\b\b\b\b\b\b\b\b\b\b\b\b\b\b\b\b\b\b\b\b\b\b\b\b\b\b\b\b\b\b\b\b\b\b\b\b\b\b\b\b\b\b\b\b\b\b\b\b\b\b\b\b\b\b\b\b\b\b\b\b\b\b\b\b\b\b\b\b\b\b\b\b\b\b\b\b\b\b\b\b\b\r82/82 [==============================] - 0s 6ms/step - loss: 0.3778 - accuracy: 0.8333\n",
            "Epoch 8/50\n",
            "77/82 [===========================>..] - ETA: 0s - loss: 0.3803 - accuracy: 0.8312"
          ]
        },
        {
          "output_type": "stream",
          "name": "stderr",
          "text": [
            "WARNING:tensorflow:Early stopping conditioned on metric `val_loss` which is not available. Available metrics are: loss,accuracy\n"
          ]
        },
        {
          "output_type": "stream",
          "name": "stdout",
          "text": [
            "\b\b\b\b\b\b\b\b\b\b\b\b\b\b\b\b\b\b\b\b\b\b\b\b\b\b\b\b\b\b\b\b\b\b\b\b\b\b\b\b\b\b\b\b\b\b\b\b\b\b\b\b\b\b\b\b\b\b\b\b\b\b\b\b\b\b\b\b\b\b\b\b\b\b\b\b\b\b\b\b\b\b\r82/82 [==============================] - 0s 6ms/step - loss: 0.3770 - accuracy: 0.8341\n",
            "Epoch 9/50\n",
            "82/82 [==============================] - ETA: 0s - loss: 0.3777 - accuracy: 0.8326"
          ]
        },
        {
          "output_type": "stream",
          "name": "stderr",
          "text": [
            "WARNING:tensorflow:Early stopping conditioned on metric `val_loss` which is not available. Available metrics are: loss,accuracy\n"
          ]
        },
        {
          "output_type": "stream",
          "name": "stdout",
          "text": [
            "\b\b\b\b\b\b\b\b\b\b\b\b\b\b\b\b\b\b\b\b\b\b\b\b\b\b\b\b\b\b\b\b\b\b\b\b\b\b\b\b\b\b\b\b\b\b\b\b\b\b\b\b\b\b\b\b\b\b\b\b\b\b\b\b\b\b\b\b\b\b\b\b\b\b\b\b\b\b\b\b\b\b\r82/82 [==============================] - 1s 7ms/step - loss: 0.3777 - accuracy: 0.8326\n",
            "Epoch 10/50\n",
            "78/82 [===========================>..] - ETA: 0s - loss: 0.3758 - accuracy: 0.8409"
          ]
        },
        {
          "output_type": "stream",
          "name": "stderr",
          "text": [
            "WARNING:tensorflow:Early stopping conditioned on metric `val_loss` which is not available. Available metrics are: loss,accuracy\n"
          ]
        },
        {
          "output_type": "stream",
          "name": "stdout",
          "text": [
            "\b\b\b\b\b\b\b\b\b\b\b\b\b\b\b\b\b\b\b\b\b\b\b\b\b\b\b\b\b\b\b\b\b\b\b\b\b\b\b\b\b\b\b\b\b\b\b\b\b\b\b\b\b\b\b\b\b\b\b\b\b\b\b\b\b\b\b\b\b\b\b\b\b\b\b\b\b\b\b\b\b\b\r82/82 [==============================] - 1s 8ms/step - loss: 0.3730 - accuracy: 0.8425\n",
            "Epoch 11/50\n",
            "82/82 [==============================] - ETA: 0s - loss: 0.3769 - accuracy: 0.8318"
          ]
        },
        {
          "output_type": "stream",
          "name": "stderr",
          "text": [
            "WARNING:tensorflow:Early stopping conditioned on metric `val_loss` which is not available. Available metrics are: loss,accuracy\n"
          ]
        },
        {
          "output_type": "stream",
          "name": "stdout",
          "text": [
            "\b\b\b\b\b\b\b\b\b\b\b\b\b\b\b\b\b\b\b\b\b\b\b\b\b\b\b\b\b\b\b\b\b\b\b\b\b\b\b\b\b\b\b\b\b\b\b\b\b\b\b\b\b\b\b\b\b\b\b\b\b\b\b\b\b\b\b\b\b\b\b\b\b\b\b\b\b\b\b\b\b\b\r82/82 [==============================] - 1s 7ms/step - loss: 0.3769 - accuracy: 0.8318\n",
            "Epoch 12/50\n",
            "81/82 [============================>.] - ETA: 0s - loss: 0.3775 - accuracy: 0.8376"
          ]
        },
        {
          "output_type": "stream",
          "name": "stderr",
          "text": [
            "WARNING:tensorflow:Early stopping conditioned on metric `val_loss` which is not available. Available metrics are: loss,accuracy\n"
          ]
        },
        {
          "output_type": "stream",
          "name": "stdout",
          "text": [
            "\b\b\b\b\b\b\b\b\b\b\b\b\b\b\b\b\b\b\b\b\b\b\b\b\b\b\b\b\b\b\b\b\b\b\b\b\b\b\b\b\b\b\b\b\b\b\b\b\b\b\b\b\b\b\b\b\b\b\b\b\b\b\b\b\b\b\b\b\b\b\b\b\b\b\b\b\b\b\b\b\b\b\r82/82 [==============================] - 1s 8ms/step - loss: 0.3777 - accuracy: 0.8372\n",
            "Epoch 13/50\n",
            "82/82 [==============================] - ETA: 0s - loss: 0.3743 - accuracy: 0.8364"
          ]
        },
        {
          "output_type": "stream",
          "name": "stderr",
          "text": [
            "WARNING:tensorflow:Early stopping conditioned on metric `val_loss` which is not available. Available metrics are: loss,accuracy\n"
          ]
        },
        {
          "output_type": "stream",
          "name": "stdout",
          "text": [
            "\b\b\b\b\b\b\b\b\b\b\b\b\b\b\b\b\b\b\b\b\b\b\b\b\b\b\b\b\b\b\b\b\b\b\b\b\b\b\b\b\b\b\b\b\b\b\b\b\b\b\b\b\b\b\b\b\b\b\b\b\b\b\b\b\b\b\b\b\b\b\b\b\b\b\b\b\b\b\b\b\b\b\r82/82 [==============================] - 1s 8ms/step - loss: 0.3743 - accuracy: 0.8364\n",
            "Epoch 14/50\n",
            "79/82 [===========================>..] - ETA: 0s - loss: 0.3742 - accuracy: 0.8366"
          ]
        },
        {
          "output_type": "stream",
          "name": "stderr",
          "text": [
            "WARNING:tensorflow:Early stopping conditioned on metric `val_loss` which is not available. Available metrics are: loss,accuracy\n"
          ]
        },
        {
          "output_type": "stream",
          "name": "stdout",
          "text": [
            "\b\b\b\b\b\b\b\b\b\b\b\b\b\b\b\b\b\b\b\b\b\b\b\b\b\b\b\b\b\b\b\b\b\b\b\b\b\b\b\b\b\b\b\b\b\b\b\b\b\b\b\b\b\b\b\b\b\b\b\b\b\b\b\b\b\b\b\b\b\b\b\b\b\b\b\b\b\b\b\b\b\b\r82/82 [==============================] - 1s 8ms/step - loss: 0.3735 - accuracy: 0.8375\n",
            "Epoch 15/50\n",
            "80/82 [============================>.] - ETA: 0s - loss: 0.3717 - accuracy: 0.8391"
          ]
        },
        {
          "output_type": "stream",
          "name": "stderr",
          "text": [
            "WARNING:tensorflow:Early stopping conditioned on metric `val_loss` which is not available. Available metrics are: loss,accuracy\n"
          ]
        },
        {
          "output_type": "stream",
          "name": "stdout",
          "text": [
            "\b\b\b\b\b\b\b\b\b\b\b\b\b\b\b\b\b\b\b\b\b\b\b\b\b\b\b\b\b\b\b\b\b\b\b\b\b\b\b\b\b\b\b\b\b\b\b\b\b\b\b\b\b\b\b\b\b\b\b\b\b\b\b\b\b\b\b\b\b\b\b\b\b\b\b\b\b\b\b\b\b\b\r82/82 [==============================] - 1s 6ms/step - loss: 0.3739 - accuracy: 0.8372\n",
            "Epoch 16/50\n",
            "82/82 [==============================] - ETA: 0s - loss: 0.3749 - accuracy: 0.8375"
          ]
        },
        {
          "output_type": "stream",
          "name": "stderr",
          "text": [
            "WARNING:tensorflow:Early stopping conditioned on metric `val_loss` which is not available. Available metrics are: loss,accuracy\n"
          ]
        },
        {
          "output_type": "stream",
          "name": "stdout",
          "text": [
            "\b\b\b\b\b\b\b\b\b\b\b\b\b\b\b\b\b\b\b\b\b\b\b\b\b\b\b\b\b\b\b\b\b\b\b\b\b\b\b\b\b\b\b\b\b\b\b\b\b\b\b\b\b\b\b\b\b\b\b\b\b\b\b\b\b\b\b\b\b\b\b\b\b\b\b\b\b\b\b\b\b\b\r82/82 [==============================] - 0s 5ms/step - loss: 0.3749 - accuracy: 0.8375\n",
            "Epoch 17/50\n",
            "78/82 [===========================>..] - ETA: 0s - loss: 0.3712 - accuracy: 0.8373"
          ]
        },
        {
          "output_type": "stream",
          "name": "stderr",
          "text": [
            "WARNING:tensorflow:Early stopping conditioned on metric `val_loss` which is not available. Available metrics are: loss,accuracy\n"
          ]
        },
        {
          "output_type": "stream",
          "name": "stdout",
          "text": [
            "\b\b\b\b\b\b\b\b\b\b\b\b\b\b\b\b\b\b\b\b\b\b\b\b\b\b\b\b\b\b\b\b\b\b\b\b\b\b\b\b\b\b\b\b\b\b\b\b\b\b\b\b\b\b\b\b\b\b\b\b\b\b\b\b\b\b\b\b\b\b\b\b\b\b\b\b\b\b\b\b\b\b\r82/82 [==============================] - 0s 5ms/step - loss: 0.3716 - accuracy: 0.8372\n",
            "Epoch 18/50\n",
            "80/82 [============================>.] - ETA: 0s - loss: 0.3727 - accuracy: 0.8371"
          ]
        },
        {
          "output_type": "stream",
          "name": "stderr",
          "text": [
            "WARNING:tensorflow:Early stopping conditioned on metric `val_loss` which is not available. Available metrics are: loss,accuracy\n"
          ]
        },
        {
          "output_type": "stream",
          "name": "stdout",
          "text": [
            "\b\b\b\b\b\b\b\b\b\b\b\b\b\b\b\b\b\b\b\b\b\b\b\b\b\b\b\b\b\b\b\b\b\b\b\b\b\b\b\b\b\b\b\b\b\b\b\b\b\b\b\b\b\b\b\b\b\b\b\b\b\b\b\b\b\b\b\b\b\b\b\b\b\b\b\b\b\b\b\b\b\b\r82/82 [==============================] - 0s 5ms/step - loss: 0.3710 - accuracy: 0.8383\n",
            "Epoch 19/50\n",
            "78/82 [===========================>..] - ETA: 0s - loss: 0.3749 - accuracy: 0.8337"
          ]
        },
        {
          "output_type": "stream",
          "name": "stderr",
          "text": [
            "WARNING:tensorflow:Early stopping conditioned on metric `val_loss` which is not available. Available metrics are: loss,accuracy\n"
          ]
        },
        {
          "output_type": "stream",
          "name": "stdout",
          "text": [
            "\b\b\b\b\b\b\b\b\b\b\b\b\b\b\b\b\b\b\b\b\b\b\b\b\b\b\b\b\b\b\b\b\b\b\b\b\b\b\b\b\b\b\b\b\b\b\b\b\b\b\b\b\b\b\b\b\b\b\b\b\b\b\b\b\b\b\b\b\b\b\b\b\b\b\b\b\b\b\b\b\b\b\r82/82 [==============================] - 0s 6ms/step - loss: 0.3739 - accuracy: 0.8352\n",
            "Epoch 20/50\n",
            "81/82 [============================>.] - ETA: 0s - loss: 0.3705 - accuracy: 0.8380"
          ]
        },
        {
          "output_type": "stream",
          "name": "stderr",
          "text": [
            "WARNING:tensorflow:Early stopping conditioned on metric `val_loss` which is not available. Available metrics are: loss,accuracy\n"
          ]
        },
        {
          "output_type": "stream",
          "name": "stdout",
          "text": [
            "\b\b\b\b\b\b\b\b\b\b\b\b\b\b\b\b\b\b\b\b\b\b\b\b\b\b\b\b\b\b\b\b\b\b\b\b\b\b\b\b\b\b\b\b\b\b\b\b\b\b\b\b\b\b\b\b\b\b\b\b\b\b\b\b\b\b\b\b\b\b\b\b\b\b\b\b\b\b\b\b\b\b\r82/82 [==============================] - 0s 5ms/step - loss: 0.3703 - accuracy: 0.8379\n",
            "Epoch 21/50\n",
            "80/82 [============================>.] - ETA: 0s - loss: 0.3775 - accuracy: 0.8387"
          ]
        },
        {
          "output_type": "stream",
          "name": "stderr",
          "text": [
            "WARNING:tensorflow:Early stopping conditioned on metric `val_loss` which is not available. Available metrics are: loss,accuracy\n"
          ]
        },
        {
          "output_type": "stream",
          "name": "stdout",
          "text": [
            "\b\b\b\b\b\b\b\b\b\b\b\b\b\b\b\b\b\b\b\b\b\b\b\b\b\b\b\b\b\b\b\b\b\b\b\b\b\b\b\b\b\b\b\b\b\b\b\b\b\b\b\b\b\b\b\b\b\b\b\b\b\b\b\b\b\b\b\b\b\b\b\b\b\b\b\b\b\b\b\b\b\b\r82/82 [==============================] - 0s 5ms/step - loss: 0.3772 - accuracy: 0.8391\n",
            "Epoch 22/50\n",
            "80/82 [============================>.] - ETA: 0s - loss: 0.3643 - accuracy: 0.8410"
          ]
        },
        {
          "output_type": "stream",
          "name": "stderr",
          "text": [
            "WARNING:tensorflow:Early stopping conditioned on metric `val_loss` which is not available. Available metrics are: loss,accuracy\n"
          ]
        },
        {
          "output_type": "stream",
          "name": "stdout",
          "text": [
            "\b\b\b\b\b\b\b\b\b\b\b\b\b\b\b\b\b\b\b\b\b\b\b\b\b\b\b\b\b\b\b\b\b\b\b\b\b\b\b\b\b\b\b\b\b\b\b\b\b\b\b\b\b\b\b\b\b\b\b\b\b\b\b\b\b\b\b\b\b\b\b\b\b\b\b\b\b\b\b\b\b\b\r82/82 [==============================] - 0s 5ms/step - loss: 0.3652 - accuracy: 0.8398\n",
            "Epoch 23/50\n",
            "80/82 [============================>.] - ETA: 0s - loss: 0.3744 - accuracy: 0.8395"
          ]
        },
        {
          "output_type": "stream",
          "name": "stderr",
          "text": [
            "WARNING:tensorflow:Early stopping conditioned on metric `val_loss` which is not available. Available metrics are: loss,accuracy\n"
          ]
        },
        {
          "output_type": "stream",
          "name": "stdout",
          "text": [
            "\b\b\b\b\b\b\b\b\b\b\b\b\b\b\b\b\b\b\b\b\b\b\b\b\b\b\b\b\b\b\b\b\b\b\b\b\b\b\b\b\b\b\b\b\b\b\b\b\b\b\b\b\b\b\b\b\b\b\b\b\b\b\b\b\b\b\b\b\b\b\b\b\b\b\b\b\b\b\b\b\b\b\r82/82 [==============================] - 0s 5ms/step - loss: 0.3722 - accuracy: 0.8406\n",
            "Epoch 24/50\n",
            "72/82 [=========================>....] - ETA: 0s - loss: 0.3630 - accuracy: 0.8420"
          ]
        },
        {
          "output_type": "stream",
          "name": "stderr",
          "text": [
            "WARNING:tensorflow:Early stopping conditioned on metric `val_loss` which is not available. Available metrics are: loss,accuracy\n"
          ]
        },
        {
          "output_type": "stream",
          "name": "stdout",
          "text": [
            "\b\b\b\b\b\b\b\b\b\b\b\b\b\b\b\b\b\b\b\b\b\b\b\b\b\b\b\b\b\b\b\b\b\b\b\b\b\b\b\b\b\b\b\b\b\b\b\b\b\b\b\b\b\b\b\b\b\b\b\b\b\b\b\b\b\b\b\b\b\b\b\b\b\b\b\b\b\b\b\b\b\b\r82/82 [==============================] - 0s 5ms/step - loss: 0.3658 - accuracy: 0.8394\n",
            "Epoch 25/50\n",
            "74/82 [==========================>...] - ETA: 0s - loss: 0.3706 - accuracy: 0.8366"
          ]
        },
        {
          "output_type": "stream",
          "name": "stderr",
          "text": [
            "WARNING:tensorflow:Early stopping conditioned on metric `val_loss` which is not available. Available metrics are: loss,accuracy\n"
          ]
        },
        {
          "output_type": "stream",
          "name": "stdout",
          "text": [
            "\b\b\b\b\b\b\b\b\b\b\b\b\b\b\b\b\b\b\b\b\b\b\b\b\b\b\b\b\b\b\b\b\b\b\b\b\b\b\b\b\b\b\b\b\b\b\b\b\b\b\b\b\b\b\b\b\b\b\b\b\b\b\b\b\b\b\b\b\b\b\b\b\b\b\b\b\b\b\b\b\b\b\r82/82 [==============================] - 0s 5ms/step - loss: 0.3710 - accuracy: 0.8391\n",
            "Epoch 26/50\n",
            "81/82 [============================>.] - ETA: 0s - loss: 0.3661 - accuracy: 0.8399"
          ]
        },
        {
          "output_type": "stream",
          "name": "stderr",
          "text": [
            "WARNING:tensorflow:Early stopping conditioned on metric `val_loss` which is not available. Available metrics are: loss,accuracy\n"
          ]
        },
        {
          "output_type": "stream",
          "name": "stdout",
          "text": [
            "\b\b\b\b\b\b\b\b\b\b\b\b\b\b\b\b\b\b\b\b\b\b\b\b\b\b\b\b\b\b\b\b\b\b\b\b\b\b\b\b\b\b\b\b\b\b\b\b\b\b\b\b\b\b\b\b\b\b\b\b\b\b\b\b\b\b\b\b\b\b\b\b\b\b\b\b\b\b\b\b\b\b\r82/82 [==============================] - 0s 5ms/step - loss: 0.3653 - accuracy: 0.8406\n",
            "Epoch 27/50\n",
            "74/82 [==========================>...] - ETA: 0s - loss: 0.3700 - accuracy: 0.8387"
          ]
        },
        {
          "output_type": "stream",
          "name": "stderr",
          "text": [
            "WARNING:tensorflow:Early stopping conditioned on metric `val_loss` which is not available. Available metrics are: loss,accuracy\n"
          ]
        },
        {
          "output_type": "stream",
          "name": "stdout",
          "text": [
            "\b\b\b\b\b\b\b\b\b\b\b\b\b\b\b\b\b\b\b\b\b\b\b\b\b\b\b\b\b\b\b\b\b\b\b\b\b\b\b\b\b\b\b\b\b\b\b\b\b\b\b\b\b\b\b\b\b\b\b\b\b\b\b\b\b\b\b\b\b\b\b\b\b\b\b\b\b\b\b\b\b\b\r82/82 [==============================] - 0s 5ms/step - loss: 0.3706 - accuracy: 0.8402\n",
            "Epoch 28/50\n",
            "75/82 [==========================>...] - ETA: 0s - loss: 0.3651 - accuracy: 0.8413"
          ]
        },
        {
          "output_type": "stream",
          "name": "stderr",
          "text": [
            "WARNING:tensorflow:Early stopping conditioned on metric `val_loss` which is not available. Available metrics are: loss,accuracy\n"
          ]
        },
        {
          "output_type": "stream",
          "name": "stdout",
          "text": [
            "\b\b\b\b\b\b\b\b\b\b\b\b\b\b\b\b\b\b\b\b\b\b\b\b\b\b\b\b\b\b\b\b\b\b\b\b\b\b\b\b\b\b\b\b\b\b\b\b\b\b\b\b\b\b\b\b\b\b\b\b\b\b\b\b\b\b\b\b\b\b\b\b\b\b\b\b\b\b\b\b\b\b\r82/82 [==============================] - 0s 6ms/step - loss: 0.3658 - accuracy: 0.8414\n",
            "Epoch 29/50\n",
            "80/82 [============================>.] - ETA: 0s - loss: 0.3685 - accuracy: 0.8383"
          ]
        },
        {
          "output_type": "stream",
          "name": "stderr",
          "text": [
            "WARNING:tensorflow:Early stopping conditioned on metric `val_loss` which is not available. Available metrics are: loss,accuracy\n"
          ]
        },
        {
          "output_type": "stream",
          "name": "stdout",
          "text": [
            "\b\b\b\b\b\b\b\b\b\b\b\b\b\b\b\b\b\b\b\b\b\b\b\b\b\b\b\b\b\b\b\b\b\b\b\b\b\b\b\b\b\b\b\b\b\b\b\b\b\b\b\b\b\b\b\b\b\b\b\b\b\b\b\b\b\b\b\b\b\b\b\b\b\b\b\b\b\b\b\b\b\b\r82/82 [==============================] - 0s 5ms/step - loss: 0.3673 - accuracy: 0.8398\n",
            "Epoch 30/50\n",
            "76/82 [==========================>...] - ETA: 0s - loss: 0.3638 - accuracy: 0.8396"
          ]
        },
        {
          "output_type": "stream",
          "name": "stderr",
          "text": [
            "WARNING:tensorflow:Early stopping conditioned on metric `val_loss` which is not available. Available metrics are: loss,accuracy\n"
          ]
        },
        {
          "output_type": "stream",
          "name": "stdout",
          "text": [
            "\b\b\b\b\b\b\b\b\b\b\b\b\b\b\b\b\b\b\b\b\b\b\b\b\b\b\b\b\b\b\b\b\b\b\b\b\b\b\b\b\b\b\b\b\b\b\b\b\b\b\b\b\b\b\b\b\b\b\b\b\b\b\b\b\b\b\b\b\b\b\b\b\b\b\b\b\b\b\b\b\b\b\r82/82 [==============================] - 0s 6ms/step - loss: 0.3652 - accuracy: 0.8398\n",
            "Epoch 31/50\n",
            "78/82 [===========================>..] - ETA: 0s - loss: 0.3685 - accuracy: 0.8438"
          ]
        },
        {
          "output_type": "stream",
          "name": "stderr",
          "text": [
            "WARNING:tensorflow:Early stopping conditioned on metric `val_loss` which is not available. Available metrics are: loss,accuracy\n"
          ]
        },
        {
          "output_type": "stream",
          "name": "stdout",
          "text": [
            "\b\b\b\b\b\b\b\b\b\b\b\b\b\b\b\b\b\b\b\b\b\b\b\b\b\b\b\b\b\b\b\b\b\b\b\b\b\b\b\b\b\b\b\b\b\b\b\b\b\b\b\b\b\b\b\b\b\b\b\b\b\b\b\b\b\b\b\b\b\b\b\b\b\b\b\b\b\b\b\b\b\b\r82/82 [==============================] - 0s 6ms/step - loss: 0.3699 - accuracy: 0.8429\n",
            "Epoch 32/50\n",
            "79/82 [===========================>..] - ETA: 0s - loss: 0.3645 - accuracy: 0.8414"
          ]
        },
        {
          "output_type": "stream",
          "name": "stderr",
          "text": [
            "WARNING:tensorflow:Early stopping conditioned on metric `val_loss` which is not available. Available metrics are: loss,accuracy\n"
          ]
        },
        {
          "output_type": "stream",
          "name": "stdout",
          "text": [
            "\b\b\b\b\b\b\b\b\b\b\b\b\b\b\b\b\b\b\b\b\b\b\b\b\b\b\b\b\b\b\b\b\b\b\b\b\b\b\b\b\b\b\b\b\b\b\b\b\b\b\b\b\b\b\b\b\b\b\b\b\b\b\b\b\b\b\b\b\b\b\b\b\b\b\b\b\b\b\b\b\b\b\r82/82 [==============================] - 0s 5ms/step - loss: 0.3662 - accuracy: 0.8406\n",
            "Epoch 33/50\n",
            "76/82 [==========================>...] - ETA: 0s - loss: 0.3661 - accuracy: 0.8376"
          ]
        },
        {
          "output_type": "stream",
          "name": "stderr",
          "text": [
            "WARNING:tensorflow:Early stopping conditioned on metric `val_loss` which is not available. Available metrics are: loss,accuracy\n"
          ]
        },
        {
          "output_type": "stream",
          "name": "stdout",
          "text": [
            "\b\b\b\b\b\b\b\b\b\b\b\b\b\b\b\b\b\b\b\b\b\b\b\b\b\b\b\b\b\b\b\b\b\b\b\b\b\b\b\b\b\b\b\b\b\b\b\b\b\b\b\b\b\b\b\b\b\b\b\b\b\b\b\b\b\b\b\b\b\b\b\b\b\b\b\b\b\b\b\b\b\b\r82/82 [==============================] - 0s 6ms/step - loss: 0.3688 - accuracy: 0.8383\n",
            "Epoch 34/50\n",
            "76/82 [==========================>...] - ETA: 0s - loss: 0.3628 - accuracy: 0.8405"
          ]
        },
        {
          "output_type": "stream",
          "name": "stderr",
          "text": [
            "WARNING:tensorflow:Early stopping conditioned on metric `val_loss` which is not available. Available metrics are: loss,accuracy\n"
          ]
        },
        {
          "output_type": "stream",
          "name": "stdout",
          "text": [
            "\b\b\b\b\b\b\b\b\b\b\b\b\b\b\b\b\b\b\b\b\b\b\b\b\b\b\b\b\b\b\b\b\b\b\b\b\b\b\b\b\b\b\b\b\b\b\b\b\b\b\b\b\b\b\b\b\b\b\b\b\b\b\b\b\b\b\b\b\b\b\b\b\b\b\b\b\b\b\b\b\b\b\r82/82 [==============================] - 0s 6ms/step - loss: 0.3610 - accuracy: 0.8417\n",
            "Epoch 35/50\n",
            "81/82 [============================>.] - ETA: 0s - loss: 0.3668 - accuracy: 0.8383"
          ]
        },
        {
          "output_type": "stream",
          "name": "stderr",
          "text": [
            "WARNING:tensorflow:Early stopping conditioned on metric `val_loss` which is not available. Available metrics are: loss,accuracy\n"
          ]
        },
        {
          "output_type": "stream",
          "name": "stdout",
          "text": [
            "\b\b\b\b\b\b\b\b\b\b\b\b\b\b\b\b\b\b\b\b\b\b\b\b\b\b\b\b\b\b\b\b\b\b\b\b\b\b\b\b\b\b\b\b\b\b\b\b\b\b\b\b\b\b\b\b\b\b\b\b\b\b\b\b\b\b\b\b\b\b\b\b\b\b\b\b\b\b\b\b\b\b\r82/82 [==============================] - 0s 6ms/step - loss: 0.3658 - accuracy: 0.8391\n",
            "Epoch 36/50\n",
            "79/82 [===========================>..] - ETA: 0s - loss: 0.3669 - accuracy: 0.8390"
          ]
        },
        {
          "output_type": "stream",
          "name": "stderr",
          "text": [
            "WARNING:tensorflow:Early stopping conditioned on metric `val_loss` which is not available. Available metrics are: loss,accuracy\n"
          ]
        },
        {
          "output_type": "stream",
          "name": "stdout",
          "text": [
            "\b\b\b\b\b\b\b\b\b\b\b\b\b\b\b\b\b\b\b\b\b\b\b\b\b\b\b\b\b\b\b\b\b\b\b\b\b\b\b\b\b\b\b\b\b\b\b\b\b\b\b\b\b\b\b\b\b\b\b\b\b\b\b\b\b\b\b\b\b\b\b\b\b\b\b\b\b\b\b\b\b\b\r82/82 [==============================] - 0s 5ms/step - loss: 0.3643 - accuracy: 0.8414\n",
            "Epoch 37/50\n",
            "79/82 [===========================>..] - ETA: 0s - loss: 0.3612 - accuracy: 0.8441"
          ]
        },
        {
          "output_type": "stream",
          "name": "stderr",
          "text": [
            "WARNING:tensorflow:Early stopping conditioned on metric `val_loss` which is not available. Available metrics are: loss,accuracy\n"
          ]
        },
        {
          "output_type": "stream",
          "name": "stdout",
          "text": [
            "\b\b\b\b\b\b\b\b\b\b\b\b\b\b\b\b\b\b\b\b\b\b\b\b\b\b\b\b\b\b\b\b\b\b\b\b\b\b\b\b\b\b\b\b\b\b\b\b\b\b\b\b\b\b\b\b\b\b\b\b\b\b\b\b\b\b\b\b\b\b\b\b\b\b\b\b\b\b\b\b\b\b\r82/82 [==============================] - 1s 8ms/step - loss: 0.3649 - accuracy: 0.8421\n",
            "Epoch 38/50\n",
            "77/82 [===========================>..] - ETA: 0s - loss: 0.3626 - accuracy: 0.8421"
          ]
        },
        {
          "output_type": "stream",
          "name": "stderr",
          "text": [
            "WARNING:tensorflow:Early stopping conditioned on metric `val_loss` which is not available. Available metrics are: loss,accuracy\n"
          ]
        },
        {
          "output_type": "stream",
          "name": "stdout",
          "text": [
            "\b\b\b\b\b\b\b\b\b\b\b\b\b\b\b\b\b\b\b\b\b\b\b\b\b\b\b\b\b\b\b\b\b\b\b\b\b\b\b\b\b\b\b\b\b\b\b\b\b\b\b\b\b\b\b\b\b\b\b\b\b\b\b\b\b\b\b\b\b\b\b\b\b\b\b\b\b\b\b\b\b\b\r82/82 [==============================] - 1s 8ms/step - loss: 0.3624 - accuracy: 0.8429\n",
            "Epoch 39/50\n",
            "81/82 [============================>.] - ETA: 0s - loss: 0.3646 - accuracy: 0.8418"
          ]
        },
        {
          "output_type": "stream",
          "name": "stderr",
          "text": [
            "WARNING:tensorflow:Early stopping conditioned on metric `val_loss` which is not available. Available metrics are: loss,accuracy\n"
          ]
        },
        {
          "output_type": "stream",
          "name": "stdout",
          "text": [
            "\b\b\b\b\b\b\b\b\b\b\b\b\b\b\b\b\b\b\b\b\b\b\b\b\b\b\b\b\b\b\b\b\b\b\b\b\b\b\b\b\b\b\b\b\b\b\b\b\b\b\b\b\b\b\b\b\b\b\b\b\b\b\b\b\b\b\b\b\b\b\b\b\b\b\b\b\b\b\b\b\b\b\r82/82 [==============================] - 1s 8ms/step - loss: 0.3657 - accuracy: 0.8414\n",
            "Epoch 40/50\n",
            "76/82 [==========================>...] - ETA: 0s - loss: 0.3589 - accuracy: 0.8429"
          ]
        },
        {
          "output_type": "stream",
          "name": "stderr",
          "text": [
            "WARNING:tensorflow:Early stopping conditioned on metric `val_loss` which is not available. Available metrics are: loss,accuracy\n"
          ]
        },
        {
          "output_type": "stream",
          "name": "stdout",
          "text": [
            "\b\b\b\b\b\b\b\b\b\b\b\b\b\b\b\b\b\b\b\b\b\b\b\b\b\b\b\b\b\b\b\b\b\b\b\b\b\b\b\b\b\b\b\b\b\b\b\b\b\b\b\b\b\b\b\b\b\b\b\b\b\b\b\b\b\b\b\b\b\b\b\b\b\b\b\b\b\b\b\b\b\b\r82/82 [==============================] - 1s 11ms/step - loss: 0.3629 - accuracy: 0.8414\n",
            "Epoch 41/50\n",
            "76/82 [==========================>...] - ETA: 0s - loss: 0.3600 - accuracy: 0.8446"
          ]
        },
        {
          "output_type": "stream",
          "name": "stderr",
          "text": [
            "WARNING:tensorflow:Early stopping conditioned on metric `val_loss` which is not available. Available metrics are: loss,accuracy\n"
          ]
        },
        {
          "output_type": "stream",
          "name": "stdout",
          "text": [
            "\b\b\b\b\b\b\b\b\b\b\b\b\b\b\b\b\b\b\b\b\b\b\b\b\b\b\b\b\b\b\b\b\b\b\b\b\b\b\b\b\b\b\b\b\b\b\b\b\b\b\b\b\b\b\b\b\b\b\b\b\b\b\b\b\b\b\b\b\b\b\b\b\b\b\b\b\b\b\b\b\b\b\r82/82 [==============================] - 1s 14ms/step - loss: 0.3637 - accuracy: 0.8417\n",
            "Epoch 42/50\n",
            "82/82 [==============================] - ETA: 0s - loss: 0.3614 - accuracy: 0.8421"
          ]
        },
        {
          "output_type": "stream",
          "name": "stderr",
          "text": [
            "WARNING:tensorflow:Early stopping conditioned on metric `val_loss` which is not available. Available metrics are: loss,accuracy\n"
          ]
        },
        {
          "output_type": "stream",
          "name": "stdout",
          "text": [
            "\b\b\b\b\b\b\b\b\b\b\b\b\b\b\b\b\b\b\b\b\b\b\b\b\b\b\b\b\b\b\b\b\b\b\b\b\b\b\b\b\b\b\b\b\b\b\b\b\b\b\b\b\b\b\b\b\b\b\b\b\b\b\b\b\b\b\b\b\b\b\b\b\b\b\b\b\b\b\b\b\b\b\r82/82 [==============================] - 1s 10ms/step - loss: 0.3614 - accuracy: 0.8421\n",
            "Epoch 43/50\n",
            "73/82 [=========================>....] - ETA: 0s - loss: 0.3604 - accuracy: 0.8403"
          ]
        },
        {
          "output_type": "stream",
          "name": "stderr",
          "text": [
            "WARNING:tensorflow:Early stopping conditioned on metric `val_loss` which is not available. Available metrics are: loss,accuracy\n"
          ]
        },
        {
          "output_type": "stream",
          "name": "stdout",
          "text": [
            "\b\b\b\b\b\b\b\b\b\b\b\b\b\b\b\b\b\b\b\b\b\b\b\b\b\b\b\b\b\b\b\b\b\b\b\b\b\b\b\b\b\b\b\b\b\b\b\b\b\b\b\b\b\b\b\b\b\b\b\b\b\b\b\b\b\b\b\b\b\b\b\b\b\b\b\b\b\b\b\b\b\b\r82/82 [==============================] - 0s 5ms/step - loss: 0.3606 - accuracy: 0.8410\n",
            "Epoch 44/50\n",
            "72/82 [=========================>....] - ETA: 0s - loss: 0.3629 - accuracy: 0.8394"
          ]
        },
        {
          "output_type": "stream",
          "name": "stderr",
          "text": [
            "WARNING:tensorflow:Early stopping conditioned on metric `val_loss` which is not available. Available metrics are: loss,accuracy\n"
          ]
        },
        {
          "output_type": "stream",
          "name": "stdout",
          "text": [
            "\b\b\b\b\b\b\b\b\b\b\b\b\b\b\b\b\b\b\b\b\b\b\b\b\b\b\b\b\b\b\b\b\b\b\b\b\b\b\b\b\b\b\b\b\b\b\b\b\b\b\b\b\b\b\b\b\b\b\b\b\b\b\b\b\b\b\b\b\b\b\b\b\b\b\b\b\b\b\b\b\b\b\r82/82 [==============================] - 0s 5ms/step - loss: 0.3606 - accuracy: 0.8425\n",
            "Epoch 45/50\n",
            "76/82 [==========================>...] - ETA: 0s - loss: 0.3533 - accuracy: 0.8429"
          ]
        },
        {
          "output_type": "stream",
          "name": "stderr",
          "text": [
            "WARNING:tensorflow:Early stopping conditioned on metric `val_loss` which is not available. Available metrics are: loss,accuracy\n"
          ]
        },
        {
          "output_type": "stream",
          "name": "stdout",
          "text": [
            "\b\b\b\b\b\b\b\b\b\b\b\b\b\b\b\b\b\b\b\b\b\b\b\b\b\b\b\b\b\b\b\b\b\b\b\b\b\b\b\b\b\b\b\b\b\b\b\b\b\b\b\b\b\b\b\b\b\b\b\b\b\b\b\b\b\b\b\b\b\b\b\b\b\b\b\b\b\b\b\b\b\b\r82/82 [==============================] - 0s 5ms/step - loss: 0.3585 - accuracy: 0.8406\n",
            "Epoch 46/50\n",
            "75/82 [==========================>...] - ETA: 0s - loss: 0.3667 - accuracy: 0.8392"
          ]
        },
        {
          "output_type": "stream",
          "name": "stderr",
          "text": [
            "WARNING:tensorflow:Early stopping conditioned on metric `val_loss` which is not available. Available metrics are: loss,accuracy\n"
          ]
        },
        {
          "output_type": "stream",
          "name": "stdout",
          "text": [
            "\b\b\b\b\b\b\b\b\b\b\b\b\b\b\b\b\b\b\b\b\b\b\b\b\b\b\b\b\b\b\b\b\b\b\b\b\b\b\b\b\b\b\b\b\b\b\b\b\b\b\b\b\b\b\b\b\b\b\b\b\b\b\b\b\b\b\b\b\b\b\b\b\b\b\b\b\b\b\b\b\b\b\r82/82 [==============================] - 0s 5ms/step - loss: 0.3640 - accuracy: 0.8421\n",
            "Epoch 47/50\n",
            "78/82 [===========================>..] - ETA: 0s - loss: 0.3624 - accuracy: 0.8389"
          ]
        },
        {
          "output_type": "stream",
          "name": "stderr",
          "text": [
            "WARNING:tensorflow:Early stopping conditioned on metric `val_loss` which is not available. Available metrics are: loss,accuracy\n"
          ]
        },
        {
          "output_type": "stream",
          "name": "stdout",
          "text": [
            "\b\b\b\b\b\b\b\b\b\b\b\b\b\b\b\b\b\b\b\b\b\b\b\b\b\b\b\b\b\b\b\b\b\b\b\b\b\b\b\b\b\b\b\b\b\b\b\b\b\b\b\b\b\b\b\b\b\b\b\b\b\b\b\b\b\b\b\b\b\b\b\b\b\b\b\b\b\b\b\b\b\b\r82/82 [==============================] - 0s 5ms/step - loss: 0.3598 - accuracy: 0.8410\n",
            "Epoch 48/50\n",
            "78/82 [===========================>..] - ETA: 0s - loss: 0.3640 - accuracy: 0.8401"
          ]
        },
        {
          "output_type": "stream",
          "name": "stderr",
          "text": [
            "WARNING:tensorflow:Early stopping conditioned on metric `val_loss` which is not available. Available metrics are: loss,accuracy\n"
          ]
        },
        {
          "output_type": "stream",
          "name": "stdout",
          "text": [
            "\b\b\b\b\b\b\b\b\b\b\b\b\b\b\b\b\b\b\b\b\b\b\b\b\b\b\b\b\b\b\b\b\b\b\b\b\b\b\b\b\b\b\b\b\b\b\b\b\b\b\b\b\b\b\b\b\b\b\b\b\b\b\b\b\b\b\b\b\b\b\b\b\b\b\b\b\b\b\b\b\b\b\r82/82 [==============================] - 0s 5ms/step - loss: 0.3638 - accuracy: 0.8406\n",
            "Epoch 49/50\n",
            "73/82 [=========================>....] - ETA: 0s - loss: 0.3556 - accuracy: 0.8416"
          ]
        },
        {
          "output_type": "stream",
          "name": "stderr",
          "text": [
            "WARNING:tensorflow:Early stopping conditioned on metric `val_loss` which is not available. Available metrics are: loss,accuracy\n"
          ]
        },
        {
          "output_type": "stream",
          "name": "stdout",
          "text": [
            "\b\b\b\b\b\b\b\b\b\b\b\b\b\b\b\b\b\b\b\b\b\b\b\b\b\b\b\b\b\b\b\b\b\b\b\b\b\b\b\b\b\b\b\b\b\b\b\b\b\b\b\b\b\b\b\b\b\b\b\b\b\b\b\b\b\b\b\b\b\b\b\b\b\b\b\b\b\b\b\b\b\b\r82/82 [==============================] - 0s 5ms/step - loss: 0.3599 - accuracy: 0.8406\n",
            "Epoch 50/50\n",
            "74/82 [==========================>...] - ETA: 0s - loss: 0.3627 - accuracy: 0.8366"
          ]
        },
        {
          "output_type": "stream",
          "name": "stderr",
          "text": [
            "WARNING:tensorflow:Early stopping conditioned on metric `val_loss` which is not available. Available metrics are: loss,accuracy\n"
          ]
        },
        {
          "output_type": "stream",
          "name": "stdout",
          "text": [
            "\b\b\b\b\b\b\b\b\b\b\b\b\b\b\b\b\b\b\b\b\b\b\b\b\b\b\b\b\b\b\b\b\b\b\b\b\b\b\b\b\b\b\b\b\b\b\b\b\b\b\b\b\b\b\b\b\b\b\b\b\b\b\b\b\b\b\b\b\b\b\b\b\b\b\b\b\b\b\b\b\b\b\r82/82 [==============================] - 0s 5ms/step - loss: 0.3596 - accuracy: 0.8398\n"
          ]
        },
        {
          "output_type": "execute_result",
          "data": {
            "text/plain": [
              "<keras.src.callbacks.History at 0x7a4273b65360>"
            ]
          },
          "metadata": {},
          "execution_count": 14
        }
      ]
    },
    {
      "cell_type": "markdown",
      "source": [
        "hyperparameter tuning"
      ],
      "metadata": {
        "id": "m4iHRMPZWRCY"
      }
    },
    {
      "cell_type": "code",
      "source": [
        "pip install keras-tuner"
      ],
      "metadata": {
        "colab": {
          "base_uri": "https://localhost:8080/"
        },
        "id": "64hxfu3mNN2d",
        "outputId": "78f646fc-1f3c-4317-a93b-b952c9666adc"
      },
      "execution_count": null,
      "outputs": [
        {
          "output_type": "stream",
          "name": "stdout",
          "text": [
            "Collecting keras-tuner\n",
            "  Downloading keras_tuner-1.4.7-py3-none-any.whl (129 kB)\n",
            "\u001b[?25l     \u001b[90m━━━━━━━━━━━━━━━━━━━━━━━━━━━━━━━━━━━━━━━━\u001b[0m \u001b[32m0.0/129.1 kB\u001b[0m \u001b[31m?\u001b[0m eta \u001b[36m-:--:--\u001b[0m\r\u001b[2K     \u001b[91m━━━━━━━━━━━━\u001b[0m\u001b[91m╸\u001b[0m\u001b[90m━━━━━━━━━━━━━━━━━━━━━━━━━━━\u001b[0m \u001b[32m41.0/129.1 kB\u001b[0m \u001b[31m930.6 kB/s\u001b[0m eta \u001b[36m0:00:01\u001b[0m\r\u001b[2K     \u001b[91m━━━━━━━━━━━━━━━━━━━━━━━━━━━━\u001b[0m\u001b[91m╸\u001b[0m\u001b[90m━━━━━━━━━━━\u001b[0m \u001b[32m92.2/129.1 kB\u001b[0m \u001b[31m1.2 MB/s\u001b[0m eta \u001b[36m0:00:01\u001b[0m\r\u001b[2K     \u001b[90m━━━━━━━━━━━━━━━━━━━━━━━━━━━━━━━━━━━━━━━━\u001b[0m \u001b[32m129.1/129.1 kB\u001b[0m \u001b[31m1.5 MB/s\u001b[0m eta \u001b[36m0:00:00\u001b[0m\n",
            "\u001b[?25hRequirement already satisfied: keras in /usr/local/lib/python3.10/dist-packages (from keras-tuner) (2.15.0)\n",
            "Requirement already satisfied: packaging in /usr/local/lib/python3.10/dist-packages (from keras-tuner) (24.0)\n",
            "Requirement already satisfied: requests in /usr/local/lib/python3.10/dist-packages (from keras-tuner) (2.31.0)\n",
            "Collecting kt-legacy (from keras-tuner)\n",
            "  Downloading kt_legacy-1.0.5-py3-none-any.whl (9.6 kB)\n",
            "Requirement already satisfied: charset-normalizer<4,>=2 in /usr/local/lib/python3.10/dist-packages (from requests->keras-tuner) (3.3.2)\n",
            "Requirement already satisfied: idna<4,>=2.5 in /usr/local/lib/python3.10/dist-packages (from requests->keras-tuner) (3.7)\n",
            "Requirement already satisfied: urllib3<3,>=1.21.1 in /usr/local/lib/python3.10/dist-packages (from requests->keras-tuner) (2.0.7)\n",
            "Requirement already satisfied: certifi>=2017.4.17 in /usr/local/lib/python3.10/dist-packages (from requests->keras-tuner) (2024.2.2)\n",
            "Installing collected packages: kt-legacy, keras-tuner\n",
            "Successfully installed keras-tuner-1.4.7 kt-legacy-1.0.5\n"
          ]
        }
      ]
    },
    {
      "cell_type": "code",
      "source": [
        "import keras_tuner as kt\n",
        "from sklearn.model_selection import KFold"
      ],
      "metadata": {
        "id": "gBawGweQNBMm"
      },
      "execution_count": null,
      "outputs": []
    },
    {
      "cell_type": "code",
      "source": [
        "# Define the model building function for Keras Tuner\n",
        "def build_model(hp):\n",
        "    model = Sequential()\n",
        "    model.add(LSTM(units=hp.Int('units_1', min_value=32, max_value=128, step=16),\n",
        "                   return_sequences=True,\n",
        "                   input_shape=(X_scaled.shape[1], X_scaled.shape[2])))\n",
        "    model.add(Dropout(rate=hp.Float('dropout_1', min_value=0.1, max_value=0.5, step=0.1)))\n",
        "    model.add(LSTM(units=hp.Int('units_2', min_value=32, max_value=128, step=16)))\n",
        "    model.add(Dropout(rate=hp.Float('dropout_2', min_value=0.1, max_value=0.5, step=0.1)))\n",
        "    model.add(Dense(1, activation='sigmoid'))\n",
        "    model.compile(optimizer='adam', loss='binary_crossentropy', metrics=['accuracy'])\n",
        "    return model\n"
      ],
      "metadata": {
        "id": "PGJlcsD9OIIm"
      },
      "execution_count": null,
      "outputs": []
    },
    {
      "cell_type": "code",
      "source": [
        "# Initialize Keras Tuner\n",
        "tuner = kt.RandomSearch(\n",
        "    build_model,\n",
        "    objective='val_accuracy',\n",
        "    max_trials=10,\n",
        "    executions_per_trial=1,\n",
        "    directory='my_dir',\n",
        "    project_name='lstm_tuning'\n",
        ")\n"
      ],
      "metadata": {
        "id": "kt792xBXOLhH"
      },
      "execution_count": null,
      "outputs": []
    },
    {
      "cell_type": "code",
      "source": [
        "# Run the hyperparameter search\n",
        "tuner.search(X_scaled, y_encoded, epochs=10, batch_size=32, validation_split=0.2)\n"
      ],
      "metadata": {
        "colab": {
          "base_uri": "https://localhost:8080/"
        },
        "id": "jF9B_VyiOQO9",
        "outputId": "3bac9027-44b9-4f56-f631-3a16fbfe7828"
      },
      "execution_count": null,
      "outputs": [
        {
          "output_type": "stream",
          "name": "stdout",
          "text": [
            "Trial 10 Complete [00h 00m 15s]\n",
            "val_accuracy: 0.8206107020378113\n",
            "\n",
            "Best val_accuracy So Far: 0.8244274854660034\n",
            "Total elapsed time: 00h 02m 41s\n"
          ]
        }
      ]
    },
    {
      "cell_type": "code",
      "source": [
        "# Get the optimal hyperparameters\n",
        "best_hps = tuner.get_best_hyperparameters(num_trials=1)[0]\n",
        "\n",
        "# Build the best model\n",
        "model = tuner.hypermodel.build(best_hps)\n",
        "\n",
        "# Define early stopping callback\n",
        "early_stopping = EarlyStopping(monitor='val_loss', patience=3, restore_best_weights=True)\n",
        "\n",
        "# Train the best model on the entire dataset with early stopping\n",
        "history = model.fit(X_scaled, y_encoded, epochs=50, batch_size=32, validation_split=0.2, callbacks=[early_stopping])\n",
        "\n",
        "# Evaluate the model on the entire dataset (note: this is not recommended for real-world applications)\n",
        "loss, accuracy = model.evaluate(X_scaled, y_encoded)\n",
        "print(f'Final model accuracy: {accuracy:.4f}')\n"
      ],
      "metadata": {
        "colab": {
          "base_uri": "https://localhost:8080/"
        },
        "id": "R7GVhQ5MOUyr",
        "outputId": "5f3e1898-f8dd-4f2c-80e9-ff68e26ef6ac"
      },
      "execution_count": null,
      "outputs": [
        {
          "output_type": "stream",
          "name": "stdout",
          "text": [
            "Epoch 1/50\n",
            "66/66 [==============================] - 6s 24ms/step - loss: 0.5860 - accuracy: 0.7380 - val_loss: 0.5348 - val_accuracy: 0.7328\n",
            "Epoch 2/50\n",
            "66/66 [==============================] - 1s 9ms/step - loss: 0.4653 - accuracy: 0.7729 - val_loss: 0.4299 - val_accuracy: 0.8149\n",
            "Epoch 3/50\n",
            "66/66 [==============================] - 1s 14ms/step - loss: 0.4100 - accuracy: 0.8164 - val_loss: 0.4138 - val_accuracy: 0.8034\n",
            "Epoch 4/50\n",
            "66/66 [==============================] - 1s 13ms/step - loss: 0.3956 - accuracy: 0.8222 - val_loss: 0.4130 - val_accuracy: 0.8015\n",
            "Epoch 5/50\n",
            "66/66 [==============================] - 1s 14ms/step - loss: 0.3946 - accuracy: 0.8274 - val_loss: 0.4063 - val_accuracy: 0.8034\n",
            "Epoch 6/50\n",
            "66/66 [==============================] - 1s 14ms/step - loss: 0.3884 - accuracy: 0.8298 - val_loss: 0.4033 - val_accuracy: 0.8168\n",
            "Epoch 7/50\n",
            "66/66 [==============================] - 1s 11ms/step - loss: 0.3843 - accuracy: 0.8298 - val_loss: 0.4046 - val_accuracy: 0.8187\n",
            "Epoch 8/50\n",
            "66/66 [==============================] - 1s 9ms/step - loss: 0.3808 - accuracy: 0.8327 - val_loss: 0.4009 - val_accuracy: 0.8168\n",
            "Epoch 9/50\n",
            "66/66 [==============================] - 1s 9ms/step - loss: 0.3756 - accuracy: 0.8351 - val_loss: 0.4007 - val_accuracy: 0.8206\n",
            "Epoch 10/50\n",
            "66/66 [==============================] - 1s 8ms/step - loss: 0.3787 - accuracy: 0.8341 - val_loss: 0.4092 - val_accuracy: 0.8149\n",
            "Epoch 11/50\n",
            "66/66 [==============================] - 1s 8ms/step - loss: 0.3773 - accuracy: 0.8380 - val_loss: 0.4036 - val_accuracy: 0.8168\n",
            "Epoch 12/50\n",
            "66/66 [==============================] - 1s 9ms/step - loss: 0.3724 - accuracy: 0.8389 - val_loss: 0.4088 - val_accuracy: 0.8187\n",
            "82/82 [==============================] - 0s 3ms/step - loss: 0.3815 - accuracy: 0.8284\n",
            "Final model accuracy: 0.8284\n"
          ]
        }
      ]
    },
    {
      "cell_type": "markdown",
      "source": [
        "test dataset"
      ],
      "metadata": {
        "id": "Yehg0RsiWWM9"
      }
    },
    {
      "cell_type": "code",
      "source": [
        "test_data= pd.read_csv('/content/test (1).csv')"
      ],
      "metadata": {
        "id": "8ya4WC21ZCcN"
      },
      "execution_count": null,
      "outputs": []
    },
    {
      "cell_type": "code",
      "source": [
        "test_data.columns"
      ],
      "metadata": {
        "colab": {
          "base_uri": "https://localhost:8080/"
        },
        "id": "tvS7L_kdZDd3",
        "outputId": "bb7ccc53-8ae6-4178-e778-7f84c82a93be"
      },
      "execution_count": null,
      "outputs": [
        {
          "output_type": "execute_result",
          "data": {
            "text/plain": [
              "Index(['Date', 'Temp9am', 'Temp3pm', 'MinTemp', 'MaxTemp', 'Rainfall',\n",
              "       'Evaporation', 'Sunshine', 'WindGustDir', 'WindGustSpeed', 'WindDir9am',\n",
              "       'WindDir3pm', 'WindSpeed9am', 'WindSpeed3pm', 'Humidity9am',\n",
              "       'Humidity3pm', 'Pressure9am', 'Pressure3pm', 'Cloud9am', 'Cloud3pm',\n",
              "       'ID'],\n",
              "      dtype='object')"
            ]
          },
          "metadata": {},
          "execution_count": 12
        }
      ]
    },
    {
      "cell_type": "code",
      "source": [
        "test_data.shape"
      ],
      "metadata": {
        "colab": {
          "base_uri": "https://localhost:8080/"
        },
        "id": "hPmXbW-ic07k",
        "outputId": "dbb38ad7-1bf1-4841-953f-4c7df1016fee"
      },
      "execution_count": null,
      "outputs": [
        {
          "output_type": "execute_result",
          "data": {
            "text/plain": [
              "(655, 21)"
            ]
          },
          "metadata": {},
          "execution_count": 26
        }
      ]
    },
    {
      "cell_type": "code",
      "source": [
        "# Assuming 'Date' is the datetime column in your DataFrame\n",
        "test_data['Date'] = pd.to_datetime(test_data['Date'])\n",
        "test_data.set_index('Date', inplace=True)"
      ],
      "metadata": {
        "colab": {
          "base_uri": "https://localhost:8080/"
        },
        "id": "fkuA3tHqQIN3",
        "outputId": "de3e8797-1a48-44b3-fec2-aca77ada0175"
      },
      "execution_count": null,
      "outputs": [
        {
          "output_type": "stream",
          "name": "stderr",
          "text": [
            "<ipython-input-24-df6085c864d9>:2: UserWarning: Could not infer format, so each element will be parsed individually, falling back to `dateutil`. To ensure parsing is consistent and as-expected, please specify a format.\n",
            "  test_data['Date'] = pd.to_datetime(test_data['Date'])\n"
          ]
        }
      ]
    },
    {
      "cell_type": "code",
      "source": [
        "# List of categorical features excluding the target 'RainToday'\n",
        "categorical_features = ['WindGustDir', 'WindDir9am', 'WindDir3pm']\n",
        "label_encoders = {feature: LabelEncoder() for feature in categorical_features}\n",
        "\n",
        "# Apply label encoding to categorical features\n",
        "for feature in categorical_features:\n",
        "    test_data[feature] = label_encoders[feature].fit_transform(test_data[feature])\n",
        "\n",
        "# List of features to scale, excluding the target 'RainToday'\n",
        "features_to_scale = ['Temp9am', 'Temp3pm', 'MinTemp', 'MaxTemp', 'Rainfall',\n",
        "       'Evaporation', 'Sunshine', 'WindGustDir', 'WindGustSpeed', 'WindDir9am',\n",
        "       'WindDir3pm', 'WindSpeed9am', 'WindSpeed3pm', 'Humidity9am',\n",
        "       'Humidity3pm', 'Pressure9am', 'Pressure3pm', 'Cloud9am', 'Cloud3pm',\n",
        "       'ID']"
      ],
      "metadata": {
        "id": "H3x6tBHCUfqV"
      },
      "execution_count": null,
      "outputs": []
    },
    {
      "cell_type": "markdown",
      "source": [
        "evaluating on the test dataset"
      ],
      "metadata": {
        "id": "oSTMSrgiWZ69"
      }
    },
    {
      "cell_type": "code",
      "source": [
        "# Ensure the same scaling is applied to the test data\n",
        "X_test_scaled = scaler.transform(test_data[features_to_scale])\n",
        "X_test_scaled = X_test_scaled.reshape(X_test_scaled.shape[0], 1, X_test_scaled.shape[1])\n",
        "\n",
        "# Make predictions on the test dataset\n",
        "predictions = model.predict(X_test_scaled)\n",
        "\n",
        "# Add predictions to the test dataset\n",
        "test_data['Predicted'] = predictions\n",
        "\n",
        "# Save the updated test dataset\n",
        "test_data.to_csv('predictions.csv', index=False)"
      ],
      "metadata": {
        "colab": {
          "base_uri": "https://localhost:8080/"
        },
        "id": "dLSSKj0OUkLC",
        "outputId": "abf75434-5968-47b7-f726-95fd756b234d"
      },
      "execution_count": null,
      "outputs": [
        {
          "output_type": "stream",
          "name": "stdout",
          "text": [
            "21/21 [==============================] - 0s 5ms/step\n"
          ]
        }
      ]
    },
    {
      "cell_type": "markdown",
      "source": [
        "visualising train and test dataset"
      ],
      "metadata": {
        "id": "Hd41j6WnWjr3"
      }
    },
    {
      "cell_type": "code",
      "source": [
        "import matplotlib.pyplot as plt"
      ],
      "metadata": {
        "id": "pWch8IjPT4fP"
      },
      "execution_count": null,
      "outputs": []
    },
    {
      "cell_type": "code",
      "source": [
        "plt.subplot(1, 2, 1)\n",
        "plt.plot(history.history['loss'], label='Train Loss')\n",
        "plt.plot(history.history['val_loss'], label='Validation Loss')\n",
        "plt.title('Model Loss')\n",
        "plt.xlabel('Epoch')\n",
        "plt.ylabel('Loss')\n",
        "plt.legend(loc='upper right')\n",
        "\n",
        "plt.subplot(1, 2, 2)\n",
        "plt.plot(history.history['accuracy'], label='Train Accuracy')\n",
        "plt.plot(history.history['val_accuracy'], label='Validation Accuracy')\n",
        "plt.title('Model Accuracy')\n",
        "plt.xlabel('Epoch')\n",
        "plt.ylabel('Accuracy')\n",
        "plt.legend(loc='lower right')\n",
        "\n",
        "plt.tight_layout()\n",
        "plt.show()"
      ],
      "metadata": {
        "colab": {
          "base_uri": "https://localhost:8080/",
          "height": 487
        },
        "id": "1RDM5IHcTyym",
        "outputId": "4b10ec25-fff5-4fba-ce4a-4fe47608da87"
      },
      "execution_count": null,
      "outputs": [
        {
          "output_type": "display_data",
          "data": {
            "text/plain": [
              "<Figure size 640x480 with 2 Axes>"
            ],
            "image/png": "[encoded data removed]"
          },
          "metadata": {}
        }
      ]
    },
    {
      "cell_type": "code",
      "source": [
        "print(test_data)"
      ],
      "metadata": {
        "colab": {
          "base_uri": "https://localhost:8080/"
        },
        "id": "BDSmY9Q6UxHT",
        "outputId": "feee30c3-3c9c-4d37-805b-c429b77041f9"
      },
      "execution_count": null,
      "outputs": [
        {
          "output_type": "stream",
          "name": "stdout",
          "text": [
            "            Temp9am  Temp3pm  MinTemp  MaxTemp  Rainfall  Evaporation  \\\n",
            "Date                                                                    \n",
            "2020-01-04     12.7     17.0      9.0     19.7       0.0          3.2   \n",
            "2020-02-04     11.9     18.6      8.0     18.8       0.0          4.0   \n",
            "2020-03-04     14.4     20.6     11.2     20.8       2.8          5.6   \n",
            "2020-04-04     13.7     18.3     12.5     19.5      20.4          4.0   \n",
            "2020-05-04     15.2     18.7     11.5     21.7       0.0          2.8   \n",
            "...             ...      ...      ...      ...       ...          ...   \n",
            "2022-11-01     10.5     17.9      8.6     19.6       0.0          2.0   \n",
            "2022-12-01     11.0     18.7      9.3     19.2       0.0          2.0   \n",
            "2022-01-13     10.2     17.3      9.4     17.7       0.0          2.4   \n",
            "2022-01-14     12.4     19.0     10.1     19.3       0.0          1.4   \n",
            "2022-01-15      9.4     18.8      7.6     19.3       0.0          3.4   \n",
            "\n",
            "            Sunshine  WindGustDir  WindGustSpeed  WindDir9am  ...  \\\n",
            "Date                                                          ...   \n",
            "2020-01-04      10.8           13             31          13  ...   \n",
            "2020-02-04      10.4           14             31          13  ...   \n",
            "2020-03-04       8.0           12             52          14  ...   \n",
            "2020-04-04       5.7            8             48          11  ...   \n",
            "2020-05-04       9.3            2             37          14  ...   \n",
            "...              ...          ...            ...         ...  ...   \n",
            "2022-11-01       7.8           10             37          13  ...   \n",
            "2022-12-01       9.2           13             30          13  ...   \n",
            "2022-01-13       2.7           13             24          14  ...   \n",
            "2022-01-14       9.3           13             43          13  ...   \n",
            "2022-01-15       9.4           13             35          13  ...   \n",
            "\n",
            "            WindSpeed9am  WindSpeed3pm  Humidity9am  Humidity3pm  Pressure9am  \\\n",
            "Date                                                                            \n",
            "2020-01-04            17            13           50           39       1015.8   \n",
            "2020-02-04            11            19           61           46       1018.0   \n",
            "2020-03-04            20            24           69           28       1006.0   \n",
            "2020-04-04            19            20           92           54       1021.5   \n",
            "2020-05-04            17            24           68           53       1022.3   \n",
            "...                  ...           ...          ...          ...          ...   \n",
            "2022-11-01            22            20           73           52       1025.9   \n",
            "2022-12-01            20             7           78           53       1028.5   \n",
            "2022-01-13            15            13           85           56       1020.8   \n",
            "2022-01-14            17            19           56           35       1017.3   \n",
            "2022-01-15            13            13           73           32       1018.6   \n",
            "\n",
            "            Pressure3pm  Cloud9am  Cloud3pm   ID  Predicted  \n",
            "Date                                                         \n",
            "2020-01-04       1013.3         1         1    1   0.045468  \n",
            "2020-02-04       1012.0         5         1    2   0.036712  \n",
            "2020-03-04       1005.6         3         6    3   0.258244  \n",
            "2020-04-04       1020.5         7         2    4   0.441483  \n",
            "2020-05-04       1019.6         1         5    5   0.213607  \n",
            "...                 ...       ...       ...  ...        ...  \n",
            "2022-11-01       1025.3         2         2  651   0.153882  \n",
            "2022-12-01       1024.6         2         2  652   0.071546  \n",
            "2022-01-13       1015.0         6         6  653   0.410173  \n",
            "2022-01-14       1015.1         5         2  654   0.061320  \n",
            "2022-01-15       1015.4         1         1  655   0.069412  \n",
            "\n",
            "[655 rows x 21 columns]\n"
          ]
        }
      ]
    },
    {
      "cell_type": "markdown",
      "source": [
        "converting the target to categorical"
      ],
      "metadata": {
        "id": "YFfapuAHWphx"
      }
    },
    {
      "cell_type": "code",
      "source": [
        "# Assuming predictions is a numpy array containing numeric predictions\n",
        "threshold = 0.5  # Example threshold, adjust as needed\n",
        "\n",
        "# Convert numeric predictions to categorical labels\n",
        "categorical_predictions = np.where(predictions > threshold, 'Yes', 'No')\n",
        "\n",
        "# Now categorical_predictions contains 'Yes' or 'No' labels based on the threshold\n"
      ],
      "metadata": {
        "id": "HljRyrvKfq7v"
      },
      "execution_count": null,
      "outputs": []
    },
    {
      "cell_type": "code",
      "source": [
        "print(categorical_predictions)"
      ],
      "metadata": {
        "colab": {
          "base_uri": "https://localhost:8080/"
        },
        "id": "3D2ns5i1fs3b",
        "outputId": "57f02bdd-cb65-4e8d-ee8c-c2a15d7c3952"
      },
      "execution_count": null,
      "outputs": [
        {
          "output_type": "stream",
          "name": "stdout",
          "text": [
            "[['No']\n",
            " ['No']\n",
            " ['No']\n",
            " ['No']\n",
            " ['No']\n",
            " ['Yes']\n",
            " ['No']\n",
            " ['No']\n",
            " ['No']\n",
            " ['No']\n",
            " ['No']\n",
            " ['No']\n",
            " ['No']\n",
            " ['No']\n",
            " ['No']\n",
            " ['No']\n",
            " ['No']\n",
            " ['No']\n",
            " ['No']\n",
            " ['Yes']\n",
            " ['No']\n",
            " ['No']\n",
            " ['Yes']\n",
            " ['Yes']\n",
            " ['Yes']\n",
            " ['No']\n",
            " ['No']\n",
            " ['No']\n",
            " ['No']\n",
            " ['No']\n",
            " ['No']\n",
            " ['No']\n",
            " ['No']\n",
            " ['No']\n",
            " ['No']\n",
            " ['No']\n",
            " ['Yes']\n",
            " ['No']\n",
            " ['No']\n",
            " ['No']\n",
            " ['No']\n",
            " ['No']\n",
            " ['Yes']\n",
            " ['No']\n",
            " ['No']\n",
            " ['No']\n",
            " ['No']\n",
            " ['No']\n",
            " ['No']\n",
            " ['No']\n",
            " ['No']\n",
            " ['Yes']\n",
            " ['Yes']\n",
            " ['No']\n",
            " ['No']\n",
            " ['Yes']\n",
            " ['Yes']\n",
            " ['No']\n",
            " ['No']\n",
            " ['No']\n",
            " ['No']\n",
            " ['No']\n",
            " ['No']\n",
            " ['Yes']\n",
            " ['Yes']\n",
            " ['Yes']\n",
            " ['Yes']\n",
            " ['Yes']\n",
            " ['No']\n",
            " ['No']\n",
            " ['No']\n",
            " ['Yes']\n",
            " ['No']\n",
            " ['No']\n",
            " ['Yes']\n",
            " ['Yes']\n",
            " ['No']\n",
            " ['No']\n",
            " ['No']\n",
            " ['No']\n",
            " ['No']\n",
            " ['Yes']\n",
            " ['Yes']\n",
            " ['No']\n",
            " ['No']\n",
            " ['No']\n",
            " ['No']\n",
            " ['Yes']\n",
            " ['No']\n",
            " ['No']\n",
            " ['No']\n",
            " ['Yes']\n",
            " ['No']\n",
            " ['No']\n",
            " ['No']\n",
            " ['No']\n",
            " ['Yes']\n",
            " ['No']\n",
            " ['No']\n",
            " ['No']\n",
            " ['No']\n",
            " ['No']\n",
            " ['No']\n",
            " ['No']\n",
            " ['Yes']\n",
            " ['No']\n",
            " ['No']\n",
            " ['No']\n",
            " ['Yes']\n",
            " ['Yes']\n",
            " ['Yes']\n",
            " ['No']\n",
            " ['No']\n",
            " ['Yes']\n",
            " ['No']\n",
            " ['No']\n",
            " ['No']\n",
            " ['No']\n",
            " ['No']\n",
            " ['No']\n",
            " ['No']\n",
            " ['Yes']\n",
            " ['Yes']\n",
            " ['Yes']\n",
            " ['Yes']\n",
            " ['Yes']\n",
            " ['No']\n",
            " ['No']\n",
            " ['No']\n",
            " ['No']\n",
            " ['No']\n",
            " ['No']\n",
            " ['Yes']\n",
            " ['No']\n",
            " ['No']\n",
            " ['No']\n",
            " ['No']\n",
            " ['No']\n",
            " ['No']\n",
            " ['Yes']\n",
            " ['No']\n",
            " ['Yes']\n",
            " ['Yes']\n",
            " ['No']\n",
            " ['Yes']\n",
            " ['No']\n",
            " ['Yes']\n",
            " ['Yes']\n",
            " ['No']\n",
            " ['No']\n",
            " ['No']\n",
            " ['No']\n",
            " ['Yes']\n",
            " ['No']\n",
            " ['No']\n",
            " ['No']\n",
            " ['No']\n",
            " ['No']\n",
            " ['No']\n",
            " ['No']\n",
            " ['No']\n",
            " ['No']\n",
            " ['No']\n",
            " ['No']\n",
            " ['No']\n",
            " ['No']\n",
            " ['No']\n",
            " ['No']\n",
            " ['No']\n",
            " ['No']\n",
            " ['No']\n",
            " ['No']\n",
            " ['No']\n",
            " ['No']\n",
            " ['Yes']\n",
            " ['No']\n",
            " ['No']\n",
            " ['No']\n",
            " ['No']\n",
            " ['No']\n",
            " ['No']\n",
            " ['No']\n",
            " ['No']\n",
            " ['No']\n",
            " ['No']\n",
            " ['No']\n",
            " ['No']\n",
            " ['No']\n",
            " ['Yes']\n",
            " ['No']\n",
            " ['No']\n",
            " ['No']\n",
            " ['Yes']\n",
            " ['No']\n",
            " ['No']\n",
            " ['Yes']\n",
            " ['No']\n",
            " ['Yes']\n",
            " ['Yes']\n",
            " ['Yes']\n",
            " ['No']\n",
            " ['No']\n",
            " ['Yes']\n",
            " ['No']\n",
            " ['No']\n",
            " ['Yes']\n",
            " ['Yes']\n",
            " ['No']\n",
            " ['No']\n",
            " ['No']\n",
            " ['No']\n",
            " ['No']\n",
            " ['Yes']\n",
            " ['No']\n",
            " ['No']\n",
            " ['Yes']\n",
            " ['Yes']\n",
            " ['No']\n",
            " ['No']\n",
            " ['No']\n",
            " ['No']\n",
            " ['No']\n",
            " ['Yes']\n",
            " ['No']\n",
            " ['No']\n",
            " ['Yes']\n",
            " ['No']\n",
            " ['No']\n",
            " ['No']\n",
            " ['No']\n",
            " ['No']\n",
            " ['Yes']\n",
            " ['No']\n",
            " ['No']\n",
            " ['No']\n",
            " ['No']\n",
            " ['No']\n",
            " ['No']\n",
            " ['No']\n",
            " ['No']\n",
            " ['No']\n",
            " ['No']\n",
            " ['No']\n",
            " ['No']\n",
            " ['No']\n",
            " ['No']\n",
            " ['Yes']\n",
            " ['Yes']\n",
            " ['No']\n",
            " ['No']\n",
            " ['No']\n",
            " ['No']\n",
            " ['No']\n",
            " ['No']\n",
            " ['No']\n",
            " ['No']\n",
            " ['No']\n",
            " ['No']\n",
            " ['No']\n",
            " ['No']\n",
            " ['No']\n",
            " ['No']\n",
            " ['No']\n",
            " ['No']\n",
            " ['No']\n",
            " ['No']\n",
            " ['Yes']\n",
            " ['No']\n",
            " ['No']\n",
            " ['Yes']\n",
            " ['Yes']\n",
            " ['No']\n",
            " ['Yes']\n",
            " ['Yes']\n",
            " ['Yes']\n",
            " ['Yes']\n",
            " ['Yes']\n",
            " ['No']\n",
            " ['No']\n",
            " ['No']\n",
            " ['No']\n",
            " ['No']\n",
            " ['No']\n",
            " ['No']\n",
            " ['No']\n",
            " ['No']\n",
            " ['Yes']\n",
            " ['Yes']\n",
            " ['Yes']\n",
            " ['Yes']\n",
            " ['No']\n",
            " ['No']\n",
            " ['No']\n",
            " ['No']\n",
            " ['No']\n",
            " ['No']\n",
            " ['Yes']\n",
            " ['No']\n",
            " ['No']\n",
            " ['No']\n",
            " ['No']\n",
            " ['No']\n",
            " ['No']\n",
            " ['Yes']\n",
            " ['Yes']\n",
            " ['Yes']\n",
            " ['No']\n",
            " ['No']\n",
            " ['Yes']\n",
            " ['No']\n",
            " ['No']\n",
            " ['No']\n",
            " ['No']\n",
            " ['No']\n",
            " ['No']\n",
            " ['No']\n",
            " ['No']\n",
            " ['Yes']\n",
            " ['Yes']\n",
            " ['No']\n",
            " ['No']\n",
            " ['No']\n",
            " ['No']\n",
            " ['No']\n",
            " ['No']\n",
            " ['No']\n",
            " ['No']\n",
            " ['No']\n",
            " ['No']\n",
            " ['Yes']\n",
            " ['Yes']\n",
            " ['Yes']\n",
            " ['Yes']\n",
            " ['Yes']\n",
            " ['No']\n",
            " ['No']\n",
            " ['No']\n",
            " ['No']\n",
            " ['No']\n",
            " ['No']\n",
            " ['No']\n",
            " ['No']\n",
            " ['No']\n",
            " ['No']\n",
            " ['No']\n",
            " ['No']\n",
            " ['No']\n",
            " ['No']\n",
            " ['No']\n",
            " ['Yes']\n",
            " ['Yes']\n",
            " ['Yes']\n",
            " ['Yes']\n",
            " ['No']\n",
            " ['No']\n",
            " ['No']\n",
            " ['No']\n",
            " ['No']\n",
            " ['Yes']\n",
            " ['No']\n",
            " ['Yes']\n",
            " ['No']\n",
            " ['No']\n",
            " ['No']\n",
            " ['No']\n",
            " ['No']\n",
            " ['No']\n",
            " ['No']\n",
            " ['No']\n",
            " ['No']\n",
            " ['No']\n",
            " ['Yes']\n",
            " ['Yes']\n",
            " ['No']\n",
            " ['No']\n",
            " ['No']\n",
            " ['Yes']\n",
            " ['No']\n",
            " ['No']\n",
            " ['Yes']\n",
            " ['Yes']\n",
            " ['No']\n",
            " ['No']\n",
            " ['Yes']\n",
            " ['No']\n",
            " ['No']\n",
            " ['No']\n",
            " ['No']\n",
            " ['No']\n",
            " ['No']\n",
            " ['No']\n",
            " ['No']\n",
            " ['No']\n",
            " ['No']\n",
            " ['No']\n",
            " ['No']\n",
            " ['No']\n",
            " ['No']\n",
            " ['No']\n",
            " ['No']\n",
            " ['No']\n",
            " ['No']\n",
            " ['No']\n",
            " ['No']\n",
            " ['No']\n",
            " ['Yes']\n",
            " ['No']\n",
            " ['No']\n",
            " ['No']\n",
            " ['No']\n",
            " ['Yes']\n",
            " ['No']\n",
            " ['No']\n",
            " ['No']\n",
            " ['No']\n",
            " ['No']\n",
            " ['Yes']\n",
            " ['No']\n",
            " ['No']\n",
            " ['No']\n",
            " ['No']\n",
            " ['No']\n",
            " ['No']\n",
            " ['No']\n",
            " ['No']\n",
            " ['No']\n",
            " ['No']\n",
            " ['No']\n",
            " ['Yes']\n",
            " ['No']\n",
            " ['No']\n",
            " ['No']\n",
            " ['No']\n",
            " ['No']\n",
            " ['No']\n",
            " ['No']\n",
            " ['No']\n",
            " ['No']\n",
            " ['No']\n",
            " ['No']\n",
            " ['No']\n",
            " ['No']\n",
            " ['No']\n",
            " ['No']\n",
            " ['No']\n",
            " ['Yes']\n",
            " ['No']\n",
            " ['No']\n",
            " ['No']\n",
            " ['No']\n",
            " ['No']\n",
            " ['No']\n",
            " ['No']\n",
            " ['Yes']\n",
            " ['Yes']\n",
            " ['No']\n",
            " ['No']\n",
            " ['No']\n",
            " ['No']\n",
            " ['No']\n",
            " ['No']\n",
            " ['No']\n",
            " ['No']\n",
            " ['Yes']\n",
            " ['Yes']\n",
            " ['No']\n",
            " ['Yes']\n",
            " ['No']\n",
            " ['No']\n",
            " ['No']\n",
            " ['No']\n",
            " ['No']\n",
            " ['No']\n",
            " ['No']\n",
            " ['No']\n",
            " ['No']\n",
            " ['No']\n",
            " ['No']\n",
            " ['No']\n",
            " ['No']\n",
            " ['Yes']\n",
            " ['Yes']\n",
            " ['No']\n",
            " ['No']\n",
            " ['Yes']\n",
            " ['No']\n",
            " ['No']\n",
            " ['No']\n",
            " ['No']\n",
            " ['No']\n",
            " ['No']\n",
            " ['No']\n",
            " ['No']\n",
            " ['No']\n",
            " ['No']\n",
            " ['No']\n",
            " ['No']\n",
            " ['No']\n",
            " ['Yes']\n",
            " ['Yes']\n",
            " ['No']\n",
            " ['No']\n",
            " ['No']\n",
            " ['No']\n",
            " ['Yes']\n",
            " ['Yes']\n",
            " ['No']\n",
            " ['No']\n",
            " ['No']\n",
            " ['No']\n",
            " ['No']\n",
            " ['Yes']\n",
            " ['No']\n",
            " ['Yes']\n",
            " ['No']\n",
            " ['No']\n",
            " ['No']\n",
            " ['Yes']\n",
            " ['Yes']\n",
            " ['No']\n",
            " ['No']\n",
            " ['No']\n",
            " ['Yes']\n",
            " ['No']\n",
            " ['Yes']\n",
            " ['No']\n",
            " ['No']\n",
            " ['No']\n",
            " ['No']\n",
            " ['No']\n",
            " ['No']\n",
            " ['No']\n",
            " ['No']\n",
            " ['No']\n",
            " ['No']\n",
            " ['Yes']\n",
            " ['No']\n",
            " ['No']\n",
            " ['No']\n",
            " ['Yes']\n",
            " ['No']\n",
            " ['Yes']\n",
            " ['Yes']\n",
            " ['Yes']\n",
            " ['No']\n",
            " ['Yes']\n",
            " ['Yes']\n",
            " ['Yes']\n",
            " ['No']\n",
            " ['No']\n",
            " ['No']\n",
            " ['No']\n",
            " ['Yes']\n",
            " ['Yes']\n",
            " ['Yes']\n",
            " ['Yes']\n",
            " ['Yes']\n",
            " ['Yes']\n",
            " ['No']\n",
            " ['Yes']\n",
            " ['Yes']\n",
            " ['Yes']\n",
            " ['Yes']\n",
            " ['No']\n",
            " ['No']\n",
            " ['No']\n",
            " ['Yes']\n",
            " ['No']\n",
            " ['Yes']\n",
            " ['No']\n",
            " ['No']\n",
            " ['No']\n",
            " ['Yes']\n",
            " ['No']\n",
            " ['No']\n",
            " ['No']\n",
            " ['No']\n",
            " ['No']\n",
            " ['No']\n",
            " ['No']\n",
            " ['Yes']\n",
            " ['Yes']\n",
            " ['No']\n",
            " ['No']\n",
            " ['No']\n",
            " ['No']\n",
            " ['No']\n",
            " ['No']\n",
            " ['No']\n",
            " ['No']\n",
            " ['No']\n",
            " ['No']\n",
            " ['No']\n",
            " ['No']\n",
            " ['Yes']\n",
            " ['No']\n",
            " ['No']\n",
            " ['No']\n",
            " ['No']\n",
            " ['No']\n",
            " ['No']\n",
            " ['Yes']\n",
            " ['No']\n",
            " ['No']\n",
            " ['No']\n",
            " ['No']\n",
            " ['No']\n",
            " ['No']\n",
            " ['No']\n",
            " ['No']\n",
            " ['Yes']\n",
            " ['No']\n",
            " ['Yes']\n",
            " ['No']\n",
            " ['No']\n",
            " ['No']\n",
            " ['No']\n",
            " ['Yes']\n",
            " ['No']\n",
            " ['No']\n",
            " ['No']\n",
            " ['No']\n",
            " ['No']\n",
            " ['No']\n",
            " ['No']\n",
            " ['No']\n",
            " ['No']\n",
            " ['No']\n",
            " ['No']\n",
            " ['No']\n",
            " ['No']\n",
            " ['No']\n",
            " ['Yes']\n",
            " ['No']\n",
            " ['No']\n",
            " ['No']\n",
            " ['Yes']\n",
            " ['Yes']\n",
            " ['Yes']\n",
            " ['Yes']\n",
            " ['Yes']\n",
            " ['No']\n",
            " ['No']\n",
            " ['Yes']\n",
            " ['No']\n",
            " ['Yes']\n",
            " ['Yes']\n",
            " ['Yes']\n",
            " ['Yes']\n",
            " ['No']\n",
            " ['No']\n",
            " ['No']\n",
            " ['No']\n",
            " ['No']\n",
            " ['No']]\n"
          ]
        }
      ]
    },
    {
      "cell_type": "markdown",
      "source": [
        "creating csv file in the submission file format"
      ],
      "metadata": {
        "id": "ljZ_q2pHWvWv"
      }
    },
    {
      "cell_type": "code",
      "source": [
        "import pandas as pd\n",
        "\n",
        "# Assuming predictions and test_data contain predictions and corresponding IDs\n",
        "# Convert numeric predictions to categorical labels using a threshold\n",
        "threshold = 0.5  # Example threshold, adjust as needed\n",
        "categorical_predictions = np.where(predictions > threshold, 'Yes', 'No')\n",
        "\n",
        "# Create a DataFrame with ID and categorical predictions\n",
        "predictions_df = pd.DataFrame({'ID': test_data['ID'].values, 'Predictions': categorical_predictions.flatten()})\n",
        "\n",
        "# Save the DataFrame to a CSV file\n",
        "predictions_df.to_csv('predictions.csv', index=False)\n"
      ],
      "metadata": {
        "id": "eYewShR1gUBy"
      },
      "execution_count": null,
      "outputs": []
    },
    {
      "cell_type": "code",
      "source": [
        "print(predictions_df)"
      ],
      "metadata": {
        "colab": {
          "base_uri": "https://localhost:8080/"
        },
        "id": "ERiQYcb8illm",
        "outputId": "93ab22cd-f729-4458-f273-a47e41780abe"
      },
      "execution_count": null,
      "outputs": [
        {
          "output_type": "stream",
          "name": "stdout",
          "text": [
            "      ID Predictions\n",
            "0      1          No\n",
            "1      2          No\n",
            "2      3          No\n",
            "3      4          No\n",
            "4      5          No\n",
            "..   ...         ...\n",
            "650  651          No\n",
            "651  652          No\n",
            "652  653          No\n",
            "653  654          No\n",
            "654  655          No\n",
            "\n",
            "[655 rows x 2 columns]\n"
          ]
        }
      ]
    }
  ]
}